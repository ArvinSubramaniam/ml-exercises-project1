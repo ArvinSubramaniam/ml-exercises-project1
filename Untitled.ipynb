{
 "cells": [
  {
   "cell_type": "code",
   "execution_count": 1,
   "metadata": {
    "collapsed": true
   },
   "outputs": [],
   "source": [
    "import numpy as np\n",
    "from implementations_leo import *\n",
    "from proj1_helpers import *\n",
    "import matplotlib.pyplot as plt\n",
    "%matplotlib inline\n",
    "%reload_ext autoreload\n",
    "%autoreload 2"
   ]
  },
  {
   "cell_type": "code",
   "execution_count": 2,
   "metadata": {
    "collapsed": true
   },
   "outputs": [],
   "source": [
    "y, x, ids = load_csv_data(\"train.csv\", sub_sample=False)\n",
    "#_, x_submission, ids_submission = load_csv_data(\"test.csv\", sub_sample=False)"
   ]
  },
  {
   "cell_type": "code",
   "execution_count": 17,
   "metadata": {},
   "outputs": [
    {
     "data": {
      "text/plain": [
       "array([  2.78386897e+33,   9.67855035e+34,   3.89540570e+33,\n",
       "        -8.95651669e+33,  -4.95198947e+36,  -2.02367304e+33,\n",
       "        -2.15369307e+36,   2.26984718e+36,  -1.17820398e+34,\n",
       "        -7.67088269e+35,   2.37957476e+36,   2.03652791e+36,\n",
       "         7.08087199e+36,   7.97640832e+35,  -7.08935170e+35,\n",
       "        -2.21388121e+36,   7.21867344e+35,  -3.26984029e+36,\n",
       "         3.90388517e+35,   4.85527216e+33,   8.26942591e+35,\n",
       "         4.03126819e+32,   1.05052391e+37,   1.47608420e+32,\n",
       "         1.48729197e+34,  -1.72254633e+34,  -1.01458268e+32,\n",
       "         1.41833547e+34,   7.34173310e+33,   7.66929663e+35,\n",
       "         8.42687859e+28,  -1.17710817e+29,  -6.18563181e+29,\n",
       "         6.18932247e+28,   6.89728885e+32,   1.07131932e+28,\n",
       "        -1.07226820e+32,  -2.60273413e+34,   2.14725092e+29,\n",
       "         2.26937772e+29,   5.11016628e+33,  -1.21580740e+34,\n",
       "        -4.31156639e+32,   4.14506042e+30,  -1.29636757e+34,\n",
       "        -9.15632725e+33,  -4.41195052e+30,  -4.57993557e+33,\n",
       "         5.03786788e+33,  -1.19411364e+29,   4.18632787e+33,\n",
       "        -3.91470882e+28,  -9.15037467e+36,  -3.85511939e+28,\n",
       "        -1.16941533e+32,   1.41219032e+32,  -3.14066604e+29,\n",
       "        -2.94714508e+31,  -1.55934658e+32,  -2.87541654e+29,\n",
       "        -1.71949480e+26,   4.12946394e+26,   1.00514321e+27,\n",
       "         4.83925930e+26,   1.48261485e+29,  -5.74575235e+24,\n",
       "         3.68731511e+28,   1.61379120e+34,  -9.94952045e+26,\n",
       "        -2.20940435e+26,  -9.63098196e+32,  -1.83058395e+34,\n",
       "         9.77284768e+28,  -2.05394355e+28,   2.79277096e+33,\n",
       "        -1.12924517e+33,   2.81703301e+28,   1.36099813e+33,\n",
       "        -7.30958437e+32,   1.81477879e+26,  -3.43070377e+32,\n",
       "         1.10783233e+25,   1.85999312e+36,   1.18348166e+27,\n",
       "         6.19045694e+28,  -7.23638943e+28,   7.48103085e+26,\n",
       "        -1.29100446e+29,  -1.50723348e+29,   2.77386938e+26,\n",
       "         2.27245855e+23,  -3.10308719e+24,  -6.55060346e+23,\n",
       "        -3.96506774e+23,  -4.75977135e+25,   1.51636473e+21,\n",
       "        -8.73500850e+25,  -3.40411482e+33,   7.02399776e+23,\n",
       "         1.89749524e+23,   9.40366595e+31,  -7.14199159e+33,\n",
       "         1.82053164e+26,   4.47047424e+25,   2.21293409e+33,\n",
       "         5.24171149e+32,  -9.47393856e+25,   1.13071803e+32,\n",
       "        -4.21963426e+32,  -5.47377129e+23,  -3.27857460e+32,\n",
       "        -1.34193279e+22,   4.60073994e+34,  -5.05073974e+24,\n",
       "        -6.34891850e+25,   4.55653695e+25,  -5.97005565e+23,\n",
       "         1.63576529e+26,  -2.00567643e+26,  -1.23634688e+23,\n",
       "        -1.24810468e+20,   1.52718926e+22,  -1.89264495e+20,\n",
       "        -8.13498657e+19,   8.14495174e+22,  -1.83170137e+17,\n",
       "        -4.89526689e+22,   8.68463924e+31,  -2.59823032e+20,\n",
       "        -1.74844166e+20,  -5.97265022e+30,   4.57751646e+33,\n",
       "        -8.82754759e+22,  -2.60688134e+22,  -3.91910106e+32,\n",
       "         9.48113221e+31,   1.64918490e+23,  -5.03390622e+32,\n",
       "         3.02767361e+31,   7.97928127e+20,   1.58227668e+31,\n",
       "         3.28811686e+19,  -1.65145127e+34,   1.07510081e+22,\n",
       "        -1.69461484e+22,   1.19836982e+22,  -3.62550780e+20,\n",
       "         2.61556811e+22,   4.28386008e+22,   1.41458970e+19,\n",
       "        -1.41068540e+17,  -3.61823232e+19,   5.04020292e+17,\n",
       "         9.00868151e+16,   1.00751777e+20,   4.48943130e+11,\n",
       "        -1.15475102e+20,   4.89891116e+31,   1.01628849e+17,\n",
       "         1.11774064e+17,   2.62599125e+29,   3.32131318e+33,\n",
       "         2.49639908e+18,  -6.10049094e+19,  -2.09065239e+32,\n",
       "        -2.19020426e+31,  -1.34868140e+20,  -7.62806747e+30,\n",
       "         2.12949419e+31,  -3.50089316e+17,   2.02089188e+31,\n",
       "        -2.68617030e+16,  -1.83080241e+31,  -1.33462162e+19,\n",
       "        -3.59206760e+19,   5.36671374e+19,   1.33294506e+18,\n",
       "        -3.13656333e+19,   4.25387399e+19,   4.40526273e+15,\n",
       "         2.99954116e+14,   4.05629858e+16,  -1.63065719e+14,\n",
       "         2.37903132e+13,  -7.99378121e+16,   1.29813816e+09,\n",
       "        -1.02432828e+17,  -5.69303074e+30,  -1.19865225e+14,\n",
       "        -3.67185004e+13,  -7.37235597e+27,  -3.44400090e+31,\n",
       "         4.02477898e+17,   1.30088038e+17,   8.26698919e+30,\n",
       "        -1.65001644e+29,   4.91678860e+16,   1.87879509e+31,\n",
       "         7.12908104e+28,   5.40978777e+13,   2.41860784e+30,\n",
       "         9.40653676e+12,   5.89610647e+30,   9.45068843e+15,\n",
       "        -1.03630562e+17,   9.79307138e+16,  -1.19552836e+15,\n",
       "         8.81278548e+16,  -3.06933078e+17,  -9.56208022e+11,\n",
       "        -1.71289928e+11,  -1.69098678e+13,  -7.88811638e+10,\n",
       "         1.59053456e+10,  -9.52321224e+13,  -1.53547364e-11,\n",
       "        -6.63684527e+13,   3.49501203e+29,  -1.89905632e+10,\n",
       "         4.83836131e+09,   9.70061581e+25,  -1.20717051e+31,\n",
       "        -2.18776903e+26,  -8.30498127e+13,   2.28144055e+30,\n",
       "        -1.84717508e+29,  -2.42495847e+13,   3.16382340e+30,\n",
       "         5.62937333e+29,   2.18034417e+10,  -4.40807793e+29,\n",
       "        -1.32825173e+09,   2.20882881e+26,  -2.91873554e+12,\n",
       "        -4.43656659e+27,   4.43656659e+27,   1.90544139e+11,\n",
       "        -1.60375343e+28,   1.62563112e+28,  -2.22742690e+08,\n",
       "         1.95681876e+07,  -8.06582032e+08,   4.12183825e+07,\n",
       "         2.04561816e+05,  -8.65387499e+08,   1.99095001e-15,\n",
       "         2.54166935e-06,   1.55832937e+12,   1.12412367e-09,\n",
       "         5.93802584e-10,  -5.62425199e+08,   5.69599824e+13,\n",
       "        -1.35262738e+09,   6.20801212e-07,   5.44469037e+11,\n",
       "         3.23140296e+11,  -1.24454483e-05,  -4.97265793e+11,\n",
       "         3.18122713e+12,  -1.52099196e-09,   1.10073833e+12,\n",
       "         1.18022789e-10,   3.57310419e+13,  -4.87278541e-07,\n",
       "         8.91217029e+09,  -8.91217029e+09,  -4.63540737e-07,\n",
       "         1.32397647e+25,  -1.32397647e+25,   1.05234984e-09,\n",
       "         6.48095903e-11,   1.30107523e-09,  -6.12478736e-12,\n",
       "         1.35760881e-13,  -1.76963687e-09,   2.36792786e-33,\n",
       "        -5.40896010e-22,   4.72965021e-03,   3.79939757e-27,\n",
       "         1.09722394e-28,  -1.15806882e-06,   1.34481900e-01,\n",
       "        -1.81672877e-11,   1.48112616e-21,   1.84110335e-02,\n",
       "         1.35472255e-05,   9.92891610e-21,   9.83244462e-04,\n",
       "        -7.80533954e-05,   2.09071484e-27,  -2.02504197e-04,\n",
       "         7.61735682e-30,   1.06487735e-02,  -8.37623150e-24,\n",
       "         3.89935464e-09,  -3.89935464e-09,  -1.83569818e-24,\n",
       "        -6.35221156e+06,   6.35221156e+06,  -3.23674895e-27,\n",
       "         8.12226870e-28,  -9.13161424e-26,   5.66563446e-29,\n",
       "         5.71795674e-31,   2.02699987e-12,   7.69284058e-53,\n",
       "        -1.17333485e-12,  -2.79920239e-04,  -1.06123633e-30,\n",
       "        -1.79351333e-31,   1.34770478e-08,  -1.42220627e-02,\n",
       "        -8.53665020e-13,  -8.97067329e-25,  -4.71007133e-03,\n",
       "        -3.62189412e-04,  -4.65111439e-24,   1.51477513e-04,\n",
       "         1.07556819e-04,   1.51250099e-30,  -6.72227727e-05,\n",
       "         2.57243092e-32,   1.67471389e-03,   3.80970518e-27,\n",
       "        -3.25550286e-12,   3.25550286e-12,  -7.48469131e-28,\n",
       "        -1.26973560e-26,  -2.21702893e-26,  -7.01068933e-31,\n",
       "        -2.05548847e-07])"
      ]
     },
     "execution_count": 17,
     "metadata": {},
     "output_type": "execute_result"
    }
   ],
   "source": [
    "w"
   ]
  },
  {
   "cell_type": "code",
   "execution_count": 15,
   "metadata": {},
   "outputs": [
    {
     "ename": "MemoryError",
     "evalue": "",
     "output_type": "error",
     "traceback": [
      "\u001b[1;31m---------------------------------------------------------------------------\u001b[0m",
      "\u001b[1;31mLinAlgError\u001b[0m                               Traceback (most recent call last)",
      "\u001b[1;32mC:\\Users\\leope\\Google Drive\\EPFL\\ML\\ml-exercises-project1\\implementations_leo.py\u001b[0m in \u001b[0;36mridge_regression\u001b[1;34m(y, tx, lambda_)\u001b[0m\n\u001b[0;32m    109\u001b[0m     \u001b[1;32mtry\u001b[0m\u001b[1;33m:\u001b[0m\u001b[1;33m\u001b[0m\u001b[0m\n\u001b[1;32m--> 110\u001b[1;33m         \u001b[0mw\u001b[0m \u001b[1;33m=\u001b[0m \u001b[0mnp\u001b[0m\u001b[1;33m.\u001b[0m\u001b[0mlinalg\u001b[0m\u001b[1;33m.\u001b[0m\u001b[0msolve\u001b[0m\u001b[1;33m(\u001b[0m\u001b[0mtx\u001b[0m\u001b[1;33m.\u001b[0m\u001b[0mT\u001b[0m\u001b[1;33m.\u001b[0m\u001b[0mdot\u001b[0m\u001b[1;33m(\u001b[0m\u001b[0mtx\u001b[0m\u001b[1;33m)\u001b[0m \u001b[1;33m+\u001b[0m \u001b[0mlambda_\u001b[0m\u001b[1;33m*\u001b[0m\u001b[1;33m(\u001b[0m\u001b[1;36m2\u001b[0m\u001b[1;33m*\u001b[0m\u001b[0mtx\u001b[0m\u001b[1;33m.\u001b[0m\u001b[0mshape\u001b[0m\u001b[1;33m[\u001b[0m\u001b[1;36m0\u001b[0m\u001b[1;33m]\u001b[0m\u001b[1;33m)\u001b[0m\u001b[1;33m*\u001b[0m\u001b[0mnp\u001b[0m\u001b[1;33m.\u001b[0m\u001b[0midentity\u001b[0m\u001b[1;33m(\u001b[0m\u001b[0mtx\u001b[0m\u001b[1;33m.\u001b[0m\u001b[0mshape\u001b[0m\u001b[1;33m[\u001b[0m\u001b[1;36m1\u001b[0m\u001b[1;33m]\u001b[0m\u001b[1;33m)\u001b[0m\u001b[1;33m,\u001b[0m \u001b[0mtx\u001b[0m\u001b[1;33m.\u001b[0m\u001b[0mT\u001b[0m\u001b[1;33m.\u001b[0m\u001b[0mdot\u001b[0m\u001b[1;33m(\u001b[0m\u001b[0my\u001b[0m\u001b[1;33m)\u001b[0m\u001b[1;33m)\u001b[0m\u001b[1;33m\u001b[0m\u001b[0m\n\u001b[0m\u001b[0;32m    111\u001b[0m     \u001b[1;32mexcept\u001b[0m \u001b[0mnp\u001b[0m\u001b[1;33m.\u001b[0m\u001b[0mlinalg\u001b[0m\u001b[1;33m.\u001b[0m\u001b[0mlinalg\u001b[0m\u001b[1;33m.\u001b[0m\u001b[0mLinAlgError\u001b[0m \u001b[1;32mas\u001b[0m \u001b[0merr\u001b[0m\u001b[1;33m:\u001b[0m\u001b[1;33m\u001b[0m\u001b[0m\n",
      "\u001b[1;32mC:\\Users\\leope\\Anaconda3\\lib\\site-packages\\numpy\\linalg\\linalg.py\u001b[0m in \u001b[0;36msolve\u001b[1;34m(a, b)\u001b[0m\n\u001b[0;32m    383\u001b[0m     \u001b[0mextobj\u001b[0m \u001b[1;33m=\u001b[0m \u001b[0mget_linalg_error_extobj\u001b[0m\u001b[1;33m(\u001b[0m\u001b[0m_raise_linalgerror_singular\u001b[0m\u001b[1;33m)\u001b[0m\u001b[1;33m\u001b[0m\u001b[0m\n\u001b[1;32m--> 384\u001b[1;33m     \u001b[0mr\u001b[0m \u001b[1;33m=\u001b[0m \u001b[0mgufunc\u001b[0m\u001b[1;33m(\u001b[0m\u001b[0ma\u001b[0m\u001b[1;33m,\u001b[0m \u001b[0mb\u001b[0m\u001b[1;33m,\u001b[0m \u001b[0msignature\u001b[0m\u001b[1;33m=\u001b[0m\u001b[0msignature\u001b[0m\u001b[1;33m,\u001b[0m \u001b[0mextobj\u001b[0m\u001b[1;33m=\u001b[0m\u001b[0mextobj\u001b[0m\u001b[1;33m)\u001b[0m\u001b[1;33m\u001b[0m\u001b[0m\n\u001b[0m\u001b[0;32m    385\u001b[0m \u001b[1;33m\u001b[0m\u001b[0m\n",
      "\u001b[1;32mC:\\Users\\leope\\Anaconda3\\lib\\site-packages\\numpy\\linalg\\linalg.py\u001b[0m in \u001b[0;36m_raise_linalgerror_singular\u001b[1;34m(err, flag)\u001b[0m\n\u001b[0;32m     89\u001b[0m \u001b[1;32mdef\u001b[0m \u001b[0m_raise_linalgerror_singular\u001b[0m\u001b[1;33m(\u001b[0m\u001b[0merr\u001b[0m\u001b[1;33m,\u001b[0m \u001b[0mflag\u001b[0m\u001b[1;33m)\u001b[0m\u001b[1;33m:\u001b[0m\u001b[1;33m\u001b[0m\u001b[0m\n\u001b[1;32m---> 90\u001b[1;33m     \u001b[1;32mraise\u001b[0m \u001b[0mLinAlgError\u001b[0m\u001b[1;33m(\u001b[0m\u001b[1;34m\"Singular matrix\"\u001b[0m\u001b[1;33m)\u001b[0m\u001b[1;33m\u001b[0m\u001b[0m\n\u001b[0m\u001b[0;32m     91\u001b[0m \u001b[1;33m\u001b[0m\u001b[0m\n",
      "\u001b[1;31mLinAlgError\u001b[0m: Singular matrix",
      "\nDuring handling of the above exception, another exception occurred:\n",
      "\u001b[1;31mMemoryError\u001b[0m                               Traceback (most recent call last)",
      "\u001b[1;32m<ipython-input-15-84144ecaa04c>\u001b[0m in \u001b[0;36m<module>\u001b[1;34m()\u001b[0m\n\u001b[0;32m     11\u001b[0m \u001b[1;33m\u001b[0m\u001b[0m\n\u001b[0;32m     12\u001b[0m \u001b[1;32mfor\u001b[0m \u001b[0ml\u001b[0m \u001b[1;32min\u001b[0m \u001b[0mlambdas\u001b[0m\u001b[1;33m:\u001b[0m\u001b[1;33m\u001b[0m\u001b[0m\n\u001b[1;32m---> 13\u001b[1;33m     \u001b[0mw\u001b[0m \u001b[1;33m=\u001b[0m \u001b[0mridge_regression\u001b[0m\u001b[1;33m(\u001b[0m\u001b[0my_train\u001b[0m\u001b[1;33m,\u001b[0m \u001b[0mphi_train\u001b[0m\u001b[1;33m,\u001b[0m \u001b[0ml\u001b[0m\u001b[1;33m)\u001b[0m\u001b[1;33m\u001b[0m\u001b[0m\n\u001b[0m\u001b[0;32m     14\u001b[0m     \u001b[0mrmse\u001b[0m \u001b[1;33m=\u001b[0m \u001b[0mcost_function\u001b[0m\u001b[1;33m(\u001b[0m\u001b[0my_test\u001b[0m\u001b[1;33m,\u001b[0m \u001b[0mphi_test\u001b[0m\u001b[1;33m,\u001b[0m \u001b[0mw\u001b[0m\u001b[1;33m)\u001b[0m\u001b[1;33m\u001b[0m\u001b[0m\n\u001b[0;32m     15\u001b[0m \u001b[1;33m\u001b[0m\u001b[0m\n",
      "\u001b[1;32mC:\\Users\\leope\\Google Drive\\EPFL\\ML\\ml-exercises-project1\\implementations_leo.py\u001b[0m in \u001b[0;36mridge_regression\u001b[1;34m(y, tx, lambda_)\u001b[0m\n\u001b[0;32m    110\u001b[0m         \u001b[0mw\u001b[0m \u001b[1;33m=\u001b[0m \u001b[0mnp\u001b[0m\u001b[1;33m.\u001b[0m\u001b[0mlinalg\u001b[0m\u001b[1;33m.\u001b[0m\u001b[0msolve\u001b[0m\u001b[1;33m(\u001b[0m\u001b[0mtx\u001b[0m\u001b[1;33m.\u001b[0m\u001b[0mT\u001b[0m\u001b[1;33m.\u001b[0m\u001b[0mdot\u001b[0m\u001b[1;33m(\u001b[0m\u001b[0mtx\u001b[0m\u001b[1;33m)\u001b[0m \u001b[1;33m+\u001b[0m \u001b[0mlambda_\u001b[0m\u001b[1;33m*\u001b[0m\u001b[1;33m(\u001b[0m\u001b[1;36m2\u001b[0m\u001b[1;33m*\u001b[0m\u001b[0mtx\u001b[0m\u001b[1;33m.\u001b[0m\u001b[0mshape\u001b[0m\u001b[1;33m[\u001b[0m\u001b[1;36m0\u001b[0m\u001b[1;33m]\u001b[0m\u001b[1;33m)\u001b[0m\u001b[1;33m*\u001b[0m\u001b[0mnp\u001b[0m\u001b[1;33m.\u001b[0m\u001b[0midentity\u001b[0m\u001b[1;33m(\u001b[0m\u001b[0mtx\u001b[0m\u001b[1;33m.\u001b[0m\u001b[0mshape\u001b[0m\u001b[1;33m[\u001b[0m\u001b[1;36m1\u001b[0m\u001b[1;33m]\u001b[0m\u001b[1;33m)\u001b[0m\u001b[1;33m,\u001b[0m \u001b[0mtx\u001b[0m\u001b[1;33m.\u001b[0m\u001b[0mT\u001b[0m\u001b[1;33m.\u001b[0m\u001b[0mdot\u001b[0m\u001b[1;33m(\u001b[0m\u001b[0my\u001b[0m\u001b[1;33m)\u001b[0m\u001b[1;33m)\u001b[0m\u001b[1;33m\u001b[0m\u001b[0m\n\u001b[0;32m    111\u001b[0m     \u001b[1;32mexcept\u001b[0m \u001b[0mnp\u001b[0m\u001b[1;33m.\u001b[0m\u001b[0mlinalg\u001b[0m\u001b[1;33m.\u001b[0m\u001b[0mlinalg\u001b[0m\u001b[1;33m.\u001b[0m\u001b[0mLinAlgError\u001b[0m \u001b[1;32mas\u001b[0m \u001b[0merr\u001b[0m\u001b[1;33m:\u001b[0m\u001b[1;33m\u001b[0m\u001b[0m\n\u001b[1;32m--> 112\u001b[1;33m         \u001b[0mA\u001b[0m \u001b[1;33m=\u001b[0m \u001b[0mnp\u001b[0m\u001b[1;33m.\u001b[0m\u001b[0mdot\u001b[0m\u001b[1;33m(\u001b[0m\u001b[0mnp\u001b[0m\u001b[1;33m.\u001b[0m\u001b[0mtranspose\u001b[0m\u001b[1;33m(\u001b[0m\u001b[0mtx\u001b[0m\u001b[1;33m)\u001b[0m\u001b[1;33m,\u001b[0m\u001b[0mtx\u001b[0m\u001b[1;33m)\u001b[0m \u001b[1;33m+\u001b[0m \u001b[0mlambda_\u001b[0m\u001b[1;33m/\u001b[0m\u001b[1;33m(\u001b[0m\u001b[1;36m2\u001b[0m\u001b[1;33m*\u001b[0m\u001b[0mlen\u001b[0m\u001b[1;33m(\u001b[0m\u001b[0my\u001b[0m\u001b[1;33m)\u001b[0m\u001b[1;33m)\u001b[0m\u001b[1;33m*\u001b[0m\u001b[0mnp\u001b[0m\u001b[1;33m.\u001b[0m\u001b[0midentity\u001b[0m\u001b[1;33m(\u001b[0m\u001b[0mlen\u001b[0m\u001b[1;33m(\u001b[0m\u001b[0mtx\u001b[0m\u001b[1;33m)\u001b[0m\u001b[1;33m)\u001b[0m\u001b[1;33m\u001b[0m\u001b[0m\n\u001b[0m\u001b[0;32m    113\u001b[0m         \u001b[0minverse\u001b[0m \u001b[1;33m=\u001b[0m \u001b[0mnp\u001b[0m\u001b[1;33m.\u001b[0m\u001b[0mlinalg\u001b[0m\u001b[1;33m.\u001b[0m\u001b[0mpinv\u001b[0m\u001b[1;33m(\u001b[0m\u001b[0mA\u001b[0m\u001b[1;33m)\u001b[0m\u001b[1;33m\u001b[0m\u001b[0m\n\u001b[0;32m    114\u001b[0m         \u001b[0mw\u001b[0m \u001b[1;33m=\u001b[0m \u001b[0mnp\u001b[0m\u001b[1;33m.\u001b[0m\u001b[0mdot\u001b[0m\u001b[1;33m(\u001b[0m\u001b[0mnp\u001b[0m\u001b[1;33m.\u001b[0m\u001b[0mdot\u001b[0m\u001b[1;33m(\u001b[0m\u001b[0minverse\u001b[0m\u001b[1;33m,\u001b[0m\u001b[0mnp\u001b[0m\u001b[1;33m.\u001b[0m\u001b[0mtranspose\u001b[0m\u001b[1;33m(\u001b[0m\u001b[0mtx\u001b[0m\u001b[1;33m)\u001b[0m\u001b[1;33m)\u001b[0m\u001b[1;33m,\u001b[0m\u001b[0my\u001b[0m\u001b[1;33m)\u001b[0m\u001b[1;33m\u001b[0m\u001b[0m\n",
      "\u001b[1;32mC:\\Users\\leope\\Anaconda3\\lib\\site-packages\\numpy\\core\\numeric.py\u001b[0m in \u001b[0;36midentity\u001b[1;34m(n, dtype)\u001b[0m\n\u001b[0;32m   2417\u001b[0m     \"\"\"\n\u001b[0;32m   2418\u001b[0m     \u001b[1;32mfrom\u001b[0m \u001b[0mnumpy\u001b[0m \u001b[1;32mimport\u001b[0m \u001b[0meye\u001b[0m\u001b[1;33m\u001b[0m\u001b[0m\n\u001b[1;32m-> 2419\u001b[1;33m     \u001b[1;32mreturn\u001b[0m \u001b[0meye\u001b[0m\u001b[1;33m(\u001b[0m\u001b[0mn\u001b[0m\u001b[1;33m,\u001b[0m \u001b[0mdtype\u001b[0m\u001b[1;33m=\u001b[0m\u001b[0mdtype\u001b[0m\u001b[1;33m)\u001b[0m\u001b[1;33m\u001b[0m\u001b[0m\n\u001b[0m\u001b[0;32m   2420\u001b[0m \u001b[1;33m\u001b[0m\u001b[0m\n\u001b[0;32m   2421\u001b[0m \u001b[1;33m\u001b[0m\u001b[0m\n",
      "\u001b[1;32mC:\\Users\\leope\\Anaconda3\\lib\\site-packages\\numpy\\lib\\twodim_base.py\u001b[0m in \u001b[0;36meye\u001b[1;34m(N, M, k, dtype)\u001b[0m\n\u001b[0;32m    178\u001b[0m     \u001b[1;32mif\u001b[0m \u001b[0mM\u001b[0m \u001b[1;32mis\u001b[0m \u001b[1;32mNone\u001b[0m\u001b[1;33m:\u001b[0m\u001b[1;33m\u001b[0m\u001b[0m\n\u001b[0;32m    179\u001b[0m         \u001b[0mM\u001b[0m \u001b[1;33m=\u001b[0m \u001b[0mN\u001b[0m\u001b[1;33m\u001b[0m\u001b[0m\n\u001b[1;32m--> 180\u001b[1;33m     \u001b[0mm\u001b[0m \u001b[1;33m=\u001b[0m \u001b[0mzeros\u001b[0m\u001b[1;33m(\u001b[0m\u001b[1;33m(\u001b[0m\u001b[0mN\u001b[0m\u001b[1;33m,\u001b[0m \u001b[0mM\u001b[0m\u001b[1;33m)\u001b[0m\u001b[1;33m,\u001b[0m \u001b[0mdtype\u001b[0m\u001b[1;33m=\u001b[0m\u001b[0mdtype\u001b[0m\u001b[1;33m)\u001b[0m\u001b[1;33m\u001b[0m\u001b[0m\n\u001b[0m\u001b[0;32m    181\u001b[0m     \u001b[1;32mif\u001b[0m \u001b[0mk\u001b[0m \u001b[1;33m>=\u001b[0m \u001b[0mM\u001b[0m\u001b[1;33m:\u001b[0m\u001b[1;33m\u001b[0m\u001b[0m\n\u001b[0;32m    182\u001b[0m         \u001b[1;32mreturn\u001b[0m \u001b[0mm\u001b[0m\u001b[1;33m\u001b[0m\u001b[0m\n",
      "\u001b[1;31mMemoryError\u001b[0m: "
     ]
    }
   ],
   "source": [
    "seed = 4\n",
    "degree = 11\n",
    "loss = []\n",
    "ratio = .65\n",
    "\n",
    "y_train, x_train, y_test, x_test = split_data(y,x, ratio, seed)\n",
    "phi_test = build_poly(x_test, degree, False)\n",
    "phi_train = build_poly(x_train, degree, False)\n",
    "\n",
    "lambdas = np.logspace(-1,1.1,5)\n",
    "\n",
    "for l in lambdas:\n",
    "    w = ridge_regression(y_train, phi_train, l)\n",
    "    rmse = cost_function(y_test, phi_test, w)\n",
    "    \n",
    "    loss.append(rmse)\n",
    "    \n",
    "    print(\"Correct answers: \",predict(y_test,phi_test,w), '%')\n",
    "    \n",
    "plt.plot(lambdas, loss)"
   ]
  }
 ],
 "metadata": {
  "kernelspec": {
   "display_name": "Python 3",
   "language": "python",
   "name": "python3"
  },
  "language_info": {
   "codemirror_mode": {
    "name": "ipython",
    "version": 3
   },
   "file_extension": ".py",
   "mimetype": "text/x-python",
   "name": "python",
   "nbconvert_exporter": "python",
   "pygments_lexer": "ipython3",
   "version": "3.6.1"
  }
 },
 "nbformat": 4,
 "nbformat_minor": 2
}
