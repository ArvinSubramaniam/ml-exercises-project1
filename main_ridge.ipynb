{
 "cells": [
  {
   "cell_type": "code",
   "execution_count": 1,
   "metadata": {},
   "outputs": [],
   "source": [
    "import numpy as np\n",
    "from implementations_leo import *\n",
    "from proj1_helpers import *\n",
    "import matplotlib.pyplot as plt\n",
    "%matplotlib inline\n",
    "%reload_ext autoreload\n",
    "%autoreload 2"
   ]
  },
  {
   "cell_type": "code",
   "execution_count": 2,
   "metadata": {
    "collapsed": true
   },
   "outputs": [],
   "source": [
    "#Load the data both from train and test csv file\n",
    "y, x, ids = load_csv_data(\"train.csv\", sub_sample=False)\n",
    "#_, x_submission, ids_submission = load_csv_data(\"test.csv\", sub_sample=False)"
   ]
  },
  {
   "cell_type": "code",
   "execution_count": 5,
   "metadata": {},
   "outputs": [
    {
     "name": "stdout",
     "output_type": "stream",
     "text": [
      "[[  1.24711000e+02   2.66600000e+00   3.06400000e+00]\n",
      " [ -9.99000000e+02  -9.99000000e+02   3.47300000e+00]\n",
      " [ -9.99000000e+02  -9.99000000e+02   3.14800000e+00]\n",
      " [ -9.99000000e+02  -9.99000000e+02   3.31000000e+00]\n",
      " [ -9.99000000e+02  -9.99000000e+02   3.89100000e+00]\n",
      " [  2.84584000e+02  -5.40000000e-01   1.36200000e+00]\n",
      " [  1.58359000e+02   1.13000000e-01   2.94100000e+00]]\n",
      "[[  1.24711000e+02   2.66600000e+00   3.06400000e+00]\n",
      " [  1.08470524e+02   7.25409999e-01   3.47300000e+00]\n",
      " [  1.06880886e+02   6.79437147e-01   3.14800000e+00]\n",
      " [  1.05642614e+02  -2.34952547e+00   3.31000000e+00]\n",
      " [  1.08355179e+02  -5.59115736e-01   3.89100000e+00]\n",
      " [  2.84584000e+02  -5.40000000e-01   1.36200000e+00]\n",
      " [  1.58359000e+02   1.13000000e-01   2.94100000e+00]]\n"
     ]
    }
   ],
   "source": [
    "#substitute non values with 0\n",
    "#x[x==-999] = 0\n",
    "print(x[:7,5:8])\n",
    "x = getridof999(x)\n",
    "print(x[:7,5:8])\n",
    "#x_submission[x_submission == -999] = 0"
   ]
  },
  {
   "cell_type": "code",
   "execution_count": 4,
   "metadata": {},
   "outputs": [],
   "source": [
    "def getridof999(x):\n",
    "    for col in range(x.shape[1]):\n",
    "        x1 = 1*x\n",
    "        x1[x1==-999] = 0\n",
    "        indices = [i for i,item in enumerate(x[:,col] == -999) if item]\n",
    "        mean = np.mean(x1[:,col])\n",
    "        norm = np.linalg.norm(x[:,col])/len(x1[:,col])\n",
    "        for i in indices:\n",
    "            x[i,col] = np.random.normal(mean, norm)\n",
    "    return x"
   ]
  },
  {
   "cell_type": "code",
   "execution_count": 7,
   "metadata": {},
   "outputs": [
    {
     "name": "stdout",
     "output_type": "stream",
     "text": [
      "Correct answers:  74.2933333333 % for lambda = 0.000100\n",
      "Correct answers:  74.4266666667 % for lambda = 0.000207\n",
      "Correct answers:  74.5026666667 % for lambda = 0.000428\n",
      "Correct answers:  74.5466666667 % for lambda = 0.000886\n",
      "Correct answers:  74.492 % for lambda = 0.001833\n",
      "Correct answers:  74.4506666667 % for lambda = 0.003793\n",
      "Correct answers:  74.3706666667 % for lambda = 0.007848\n",
      "Correct answers:  74.2066666667 % for lambda = 0.016238\n",
      "Correct answers:  74.128 % for lambda = 0.033598\n",
      "Correct answers:  73.9653333333 % for lambda = 0.069519\n",
      "Correct answers:  74.0346666667 % for lambda = 0.143845\n",
      "Correct answers:  74.1253333333 % for lambda = 0.297635\n",
      "Correct answers:  74.2106666667 % for lambda = 0.615848\n",
      "Correct answers:  74.324 % for lambda = 1.274275\n",
      "Correct answers:  74.364 % for lambda = 2.636651\n",
      "Correct answers:  74.3293333333 % for lambda = 5.455595\n",
      "Correct answers:  74.2426666667 % for lambda = 11.288379\n",
      "Correct answers:  74.108 % for lambda = 23.357215\n",
      "Correct answers:  73.952 % for lambda = 48.329302\n",
      "Correct answers:  73.8173333333 % for lambda = 100.000000\n"
     ]
    },
    {
     "data": {
      "image/png": "[encoded data removed]",
      "text/plain": [
       "<matplotlib.figure.Figure at 0x20b6bbeb828>"
      ]
     },
     "metadata": {},
     "output_type": "display_data"
    }
   ],
   "source": [
    "'''Define values to perform Ridge regression with simple splitting of the dataset'''\n",
    "\n",
    "degree = 12\n",
    "ratio = 0.7 #train/test examples\n",
    "lambdas = np.logspace(-4,2,20)\n",
    "seed = 54\n",
    "\n",
    "ridge_with_simple_splitting(y,x, degree, ratio, lambdas, seed)"
   ]
  },
  {
   "cell_type": "code",
   "execution_count": 6,
   "metadata": {},
   "outputs": [],
   "source": [
    "def ridge_with_simple_splitting(y,x, degree, ratio, lambdas, seed = 1):\n",
    "    loss = []\n",
    "    y_train, x_train, y_test, x_test = split_data(y, x, ratio, seed)\n",
    "\n",
    "    phi_test = build_poly(x_test, degree, False)\n",
    "    phi_train = build_poly(x_train, degree, False)\n",
    "\n",
    "    for lambda_ in lambdas:\n",
    "\n",
    "        w = ridge_regression(y_train, phi_train, lambda_)\n",
    "        rmse_test = cost_function(y_test, phi_test, w)\n",
    "\n",
    "        loss.append(rmse_test)\n",
    "\n",
    "        print(\"Correct answers: \",predict(y_test,phi_test,w), '%', \"for lambda = %f\" %lambda_)\n",
    "    semilog_loss_lambda_plot(loss, lambdas, seed, degree)"
   ]
  },
  {
   "cell_type": "code",
   "execution_count": 8,
   "metadata": {},
   "outputs": [],
   "source": [
    "def cross_validation_ridge(y, x, k_fold, degree, lambdas, seed = 1):\n",
    "    '''perform cross validation on ridge regression\n",
    "    lambdas: array, better if log spaced\n",
    "    print percentage of correct answers for each k, lambda\n",
    "    plot in semilog scale rmse as function of lambda'''\n",
    "    \n",
    "    #create empty\n",
    "    loss = np.zeros((len(lambdas))) \n",
    "    #add poly values to the features\n",
    "    phi = build_poly(x, degree, False)\n",
    "    #build indices for cross validation\n",
    "    k_indices = build_k_indices(y, k_fold, seed)\n",
    "\n",
    "    for k in range(k_fold):\n",
    "        #split data according to kth fold\n",
    "        y_train, phi_train, y_test, phi_test = split_data_cross(y, phi, k, k_indices, degree)\n",
    "\n",
    "        loss_temp = [] #empty list to store losses for a given k\n",
    "        \n",
    "        for lambda_ in lambdas:\n",
    "            w = ridge_regression(y_train, phi_train, lambda_)\n",
    "            \n",
    "            rmse_test = cost_function(y_test, phi_test, w)/k_fold #divide by k_fold in order to mean over them\n",
    "            loss_temp.append(rmse_test)\n",
    "\n",
    "            print(\"Correct answers: \",predict(y_test,phi_test,w), '%', \"for k = %i, lambda = %f\" %(k, lambda_))\n",
    "        loss += loss_temp\n",
    "    semilog_loss_lambda_plot(loss, lambdas, seed, degree)"
   ]
  },
  {
   "cell_type": "code",
   "execution_count": 10,
   "metadata": {},
   "outputs": [
    {
     "name": "stdout",
     "output_type": "stream",
     "text": [
      "Correct answers:  81.344 % for k = 0, lambda = 0.316228\n",
      "Correct answers:  81.3488 % for k = 0, lambda = 0.379269\n",
      "Correct answers:  81.3568 % for k = 0, lambda = 0.454878\n",
      "Correct answers:  81.3616 % for k = 0, lambda = 0.545559\n",
      "Correct answers:  81.3456 % for k = 0, lambda = 0.654319\n",
      "Correct answers:  81.3312 % for k = 0, lambda = 0.784760\n",
      "Correct answers:  81.3152 % for k = 0, lambda = 0.941205\n",
      "Correct answers:  81.2896 % for k = 0, lambda = 1.128838\n",
      "Correct answers:  81.3024 % for k = 0, lambda = 1.353876\n",
      "Correct answers:  81.2592 % for k = 0, lambda = 1.623777\n",
      "Correct answers:  81.104 % for k = 0, lambda = 1.947483\n",
      "Correct answers:  54.3632 % for k = 0, lambda = 2.335721\n",
      "Correct answers:  80.6368 % for k = 0, lambda = 2.801357\n",
      "Correct answers:  80.9248 % for k = 0, lambda = 3.359818\n",
      "Correct answers:  81.008 % for k = 0, lambda = 4.029611\n",
      "Correct answers:  81.0416 % for k = 0, lambda = 4.832930\n",
      "Correct answers:  81.056 % for k = 0, lambda = 5.796394\n",
      "Correct answers:  81.0768 % for k = 0, lambda = 6.951928\n",
      "Correct answers:  81.0752 % for k = 0, lambda = 8.337822\n",
      "Correct answers:  81.0704 % for k = 0, lambda = 10.000000\n",
      "Correct answers:  81.2512 % for k = 1, lambda = 0.316228\n",
      "Correct answers:  81.2272 % for k = 1, lambda = 0.379269\n",
      "Correct answers:  81.2336 % for k = 1, lambda = 0.454878\n",
      "Correct answers:  81.1952 % for k = 1, lambda = 0.545559\n",
      "Correct answers:  81.184 % for k = 1, lambda = 0.654319\n",
      "Correct answers:  81.1856 % for k = 1, lambda = 0.784760\n",
      "Correct answers:  81.1808 % for k = 1, lambda = 0.941205\n",
      "Correct answers:  81.1904 % for k = 1, lambda = 1.128838\n",
      "Correct answers:  81.1776 % for k = 1, lambda = 1.353876\n",
      "Correct answers:  81.1536 % for k = 1, lambda = 1.623777\n",
      "Correct answers:  81.1424 % for k = 1, lambda = 1.947483\n",
      "Correct answers:  81.1552 % for k = 1, lambda = 2.335721\n",
      "Correct answers:  81.1632 % for k = 1, lambda = 2.801357\n",
      "Correct answers:  81.1456 % for k = 1, lambda = 3.359818\n",
      "Correct answers:  81.1312 % for k = 1, lambda = 4.029611\n",
      "Correct answers:  81.1248 % for k = 1, lambda = 4.832930\n",
      "Correct answers:  81.1216 % for k = 1, lambda = 5.796394\n",
      "Correct answers:  81.1184 % for k = 1, lambda = 6.951928\n",
      "Correct answers:  81.104 % for k = 1, lambda = 8.337822\n",
      "Correct answers:  81.0896 % for k = 1, lambda = 10.000000\n",
      "Correct answers:  81.4672 % for k = 2, lambda = 0.316228\n",
      "Correct answers:  81.4624 % for k = 2, lambda = 0.379269\n",
      "Correct answers:  81.4592 % for k = 2, lambda = 0.454878\n",
      "Correct answers:  81.4448 % for k = 2, lambda = 0.545559\n",
      "Correct answers:  81.4272 % for k = 2, lambda = 0.654319\n",
      "Correct answers:  81.4112 % for k = 2, lambda = 0.784760\n",
      "Correct answers:  81.3968 % for k = 2, lambda = 0.941205\n",
      "Correct answers:  81.4032 % for k = 2, lambda = 1.128838\n",
      "Correct answers:  81.3776 % for k = 2, lambda = 1.353876\n",
      "Correct answers:  81.3616 % for k = 2, lambda = 1.623777\n",
      "Correct answers:  81.36 % for k = 2, lambda = 1.947483\n",
      "Correct answers:  81.352 % for k = 2, lambda = 2.335721\n",
      "Correct answers:  81.3408 % for k = 2, lambda = 2.801357\n",
      "Correct answers:  81.3328 % for k = 2, lambda = 3.359818\n",
      "Correct answers:  81.3376 % for k = 2, lambda = 4.029611\n",
      "Correct answers:  81.336 % for k = 2, lambda = 4.832930\n",
      "Correct answers:  81.328 % for k = 2, lambda = 5.796394\n",
      "Correct answers:  81.32 % for k = 2, lambda = 6.951928\n",
      "Correct answers:  81.3136 % for k = 2, lambda = 8.337822\n",
      "Correct answers:  81.3088 % for k = 2, lambda = 10.000000\n",
      "Correct answers:  80.9904 % for k = 3, lambda = 0.316228\n",
      "Correct answers:  80.9808 % for k = 3, lambda = 0.379269\n",
      "Correct answers:  80.9952 % for k = 3, lambda = 0.454878\n",
      "Correct answers:  81.0128 % for k = 3, lambda = 0.545559\n",
      "Correct answers:  81.016 % for k = 3, lambda = 0.654319\n",
      "Correct answers:  81.0368 % for k = 3, lambda = 0.784760\n",
      "Correct answers:  81.0304 % for k = 3, lambda = 0.941205\n",
      "Correct answers:  81.0496 % for k = 3, lambda = 1.128838\n",
      "Correct answers:  81.096 % for k = 3, lambda = 1.353876\n",
      "Correct answers:  81.1088 % for k = 3, lambda = 1.623777\n",
      "Correct answers:  81.112 % for k = 3, lambda = 1.947483\n",
      "Correct answers:  81.128 % for k = 3, lambda = 2.335721\n",
      "Correct answers:  81.1344 % for k = 3, lambda = 2.801357\n",
      "Correct answers:  81.1168 % for k = 3, lambda = 3.359818\n",
      "Correct answers:  81.1024 % for k = 3, lambda = 4.029611\n",
      "Correct answers:  81.1024 % for k = 3, lambda = 4.832930\n",
      "Correct answers:  81.0736 % for k = 3, lambda = 5.796394\n",
      "Correct answers:  81.0656 % for k = 3, lambda = 6.951928\n",
      "Correct answers:  81.0832 % for k = 3, lambda = 8.337822\n",
      "Correct answers:  81.072 % for k = 3, lambda = 10.000000\n"
     ]
    },
    {
     "data": {
      "image/png": "[encoded data removed]",
      "text/plain": [
       "<matplotlib.figure.Figure at 0x20b0ab28550>"
      ]
     },
     "metadata": {},
     "output_type": "display_data"
    }
   ],
   "source": [
    "k_fold = 4\n",
    "degree = 11\n",
    "lambdas = np.logspace(-0.5,1,20)\n",
    "seed = 56\n",
    "\n",
    "cross_validation_ridge(y, x, k_fold, degree, lambdas, seed)"
   ]
  },
  {
   "cell_type": "code",
   "execution_count": null,
   "metadata": {
    "collapsed": true
   },
   "outputs": [],
   "source": [
    "def create_submission(x_submission, degree, ids_submission):\n",
    "    phi_submission = build_poly(x_submission, degree, False) \n",
    "\n",
    "    y_predicted = np.sign(phi_submission.dot(w))\n",
    "    create_csv_submission(ids_submission, y_predicted, \"predictions_6.csv\")"
   ]
  }
 ],
 "metadata": {
  "kernelspec": {
   "display_name": "Python 3",
   "language": "python",
   "name": "python3"
  },
  "language_info": {
   "codemirror_mode": {
    "name": "ipython",
    "version": 3
   },
   "file_extension": ".py",
   "mimetype": "text/x-python",
   "name": "python",
   "nbconvert_exporter": "python",
   "pygments_lexer": "ipython3",
   "version": "3.6.1"
  }
 },
 "nbformat": 4,
 "nbformat_minor": 2
}
