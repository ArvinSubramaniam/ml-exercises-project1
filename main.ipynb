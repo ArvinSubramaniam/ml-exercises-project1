{
 "cells": [
  {
   "cell_type": "code",
   "execution_count": 1,
   "metadata": {},
   "outputs": [],
   "source": [
    "import numpy as np\n",
    "from implementations_leo import *\n",
    "from proj1_helpers import *"
   ]
  },
  {
   "cell_type": "code",
   "execution_count": 2,
   "metadata": {},
   "outputs": [],
   "source": [
    "y, x, ids = load_csv_data(\"train.csv\", sub_sample=True)\n",
    "\n",
    "y_test, x_test, ids_test = load_csv_data(\"test.csv\", sub_sample=True)"
   ]
  },
  {
   "cell_type": "code",
   "execution_count": 9,
   "metadata": {},
   "outputs": [
    {
     "name": "stdout",
     "output_type": "stream",
     "text": [
      "38.2428770476 [ -1.22829200e-02   8.97896000e-03   9.11966000e-03  -1.17459800e-02\n",
      "  -9.88206000e-03  -6.68112000e-03  -9.40217000e-03   4.03890000e-04\n",
      "  -3.80695000e-03  -2.24938000e-03  -7.88800000e-05   3.06690000e-04\n",
      "  -9.93210000e-03  -2.07192000e-03  -2.76680000e-04  -3.01340000e-04\n",
      "  -2.62508000e-03  -5.17890000e-04   1.14908000e-03   2.28978000e-03\n",
      "   3.76740000e-04   7.26179000e-03   3.70000000e-04   2.16266400e-02\n",
      "   1.97855800e-02   1.95671400e-02  -8.25929000e-03  -1.01798800e-02\n",
      "  -9.96900000e-03   2.44751000e-03]\n"
     ]
    }
   ],
   "source": [
    "initial_w = np.zeros(30)/1000\n",
    "max_iters = 1000\n",
    "gamma = 0.00001\n",
    "\n",
    "loss, w = least_squares_SGD(y, x, initial_w, max_iters, gamma)\n",
    "\n",
    "print(loss, w)"
   ]
  },
  {
   "cell_type": "code",
   "execution_count": 10,
   "metadata": {},
   "outputs": [
    {
     "name": "stdout",
     "output_type": "stream",
     "text": [
      "37.2649694654\n",
      "0.875406951166\n"
     ]
    }
   ],
   "source": [
    "loss_test = cost_function(y_test, x_test,w)\n",
    "\n",
    "print(loss_test)\n",
    "\n",
    "y_predicted = np.dot(x_test,w)\n",
    "\n",
    "hits = sum(y_test == np.sign(y_predicted))/len(y_test)\n",
    "print(hits)"
   ]
  },
  {
   "cell_type": "code",
   "execution_count": 12,
   "metadata": {},
   "outputs": [
    {
     "ename": "TypeError",
     "evalue": "'float' object is not iterable",
     "output_type": "error",
     "traceback": [
      "\u001b[1;31m---------------------------------------------------------------------------\u001b[0m",
      "\u001b[1;31mTypeError\u001b[0m                                 Traceback (most recent call last)",
      "\u001b[1;32m<ipython-input-12-13120b784cb5>\u001b[0m in \u001b[0;36m<module>\u001b[1;34m()\u001b[0m\n\u001b[0;32m      1\u001b[0m \u001b[0ma\u001b[0m \u001b[1;33m=\u001b[0m \u001b[1;36m4.3\u001b[0m\u001b[1;33m\u001b[0m\u001b[0m\n\u001b[1;32m----> 2\u001b[1;33m \u001b[0mlen\u001b[0m\u001b[1;33m(\u001b[0m\u001b[0mlist\u001b[0m\u001b[1;33m(\u001b[0m\u001b[0ma\u001b[0m\u001b[1;33m)\u001b[0m\u001b[1;33m)\u001b[0m\u001b[1;33m\u001b[0m\u001b[0m\n\u001b[0m",
      "\u001b[1;31mTypeError\u001b[0m: 'float' object is not iterable"
     ]
    }
   ],
   "source": [
    "a = 4.3\n",
    "len(list(a))"
   ]
  },
  {
   "cell_type": "code",
   "execution_count": null,
   "metadata": {
    "collapsed": true
   },
   "outputs": [],
   "source": []
  }
 ],
 "metadata": {
  "kernelspec": {
   "display_name": "Python 3",
   "language": "python",
   "name": "python3"
  },
  "language_info": {
   "codemirror_mode": {
    "name": "ipython",
    "version": 3
   },
   "file_extension": ".py",
   "mimetype": "text/x-python",
   "name": "python",
   "nbconvert_exporter": "python",
   "pygments_lexer": "ipython3",
   "version": "3.6.1"
  }
 },
 "nbformat": 4,
 "nbformat_minor": 2
}
