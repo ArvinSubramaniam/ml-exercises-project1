{
 "cells": [
  {
   "cell_type": "code",
   "execution_count": 5,
   "metadata": {
    "collapsed": true
   },
   "outputs": [],
   "source": [
    "import numpy as np\n",
    "from implementations_leo import *\n",
    "from proj1_helpers import *\n",
    "import matplotlib.pyplot as plt\n",
    "%matplotlib inline"
   ]
  },
  {
   "cell_type": "code",
   "execution_count": 6,
   "metadata": {
    "collapsed": true
   },
   "outputs": [],
   "source": [
    "y, x, ids = load_csv_data(\"train.csv\", sub_sample=True)\n",
    "y_test, x_test, ids_test = load_csv_data(\"test.csv\", sub_sample=True)"
   ]
  },
  {
   "cell_type": "code",
   "execution_count": 7,
   "metadata": {},
   "outputs": [
    {
     "ename": "NameError",
     "evalue": "name 'gradient_descent' is not defined",
     "output_type": "error",
     "traceback": [
      "\u001b[0;31m---------------------------------------------------------------------------\u001b[0m",
      "\u001b[0;31mNameError\u001b[0m                                 Traceback (most recent call last)",
      "\u001b[0;32m<ipython-input-7-87b174aef617>\u001b[0m in \u001b[0;36m<module>\u001b[0;34m()\u001b[0m\n\u001b[1;32m     12\u001b[0m \u001b[0;34m\u001b[0m\u001b[0m\n\u001b[1;32m     13\u001b[0m     \u001b[0;31m#loss, w = ridge_regression(y_train, x_train, 0.3)\u001b[0m\u001b[0;34m\u001b[0m\u001b[0;34m\u001b[0m\u001b[0m\n\u001b[0;32m---> 14\u001b[0;31m     \u001b[0mloss\u001b[0m\u001b[0;34m,\u001b[0m \u001b[0mw\u001b[0m \u001b[0;34m=\u001b[0m \u001b[0mgradient_descent\u001b[0m\u001b[0;34m(\u001b[0m\u001b[0my\u001b[0m\u001b[0;34m,\u001b[0m \u001b[0mtx\u001b[0m\u001b[0;34m,\u001b[0m \u001b[0minitial_w\u001b[0m\u001b[0;34m,\u001b[0m \u001b[0mmax_iters\u001b[0m\u001b[0;34m,\u001b[0m \u001b[0mgamma\u001b[0m\u001b[0;34m)\u001b[0m\u001b[0;34m\u001b[0m\u001b[0m\n\u001b[0m\u001b[1;32m     15\u001b[0m     \u001b[0mloss_test\u001b[0m \u001b[0;34m=\u001b[0m \u001b[0mcost_function\u001b[0m\u001b[0;34m(\u001b[0m\u001b[0my_test\u001b[0m\u001b[0;34m,\u001b[0m \u001b[0mx_test\u001b[0m\u001b[0;34m,\u001b[0m\u001b[0mw\u001b[0m\u001b[0;34m)\u001b[0m\u001b[0;34m\u001b[0m\u001b[0m\n\u001b[1;32m     16\u001b[0m \u001b[0;34m\u001b[0m\u001b[0m\n",
      "\u001b[0;31mNameError\u001b[0m: name 'gradient_descent' is not defined"
     ]
    }
   ],
   "source": [
    "#Train by GD first for different gammas\n",
    "initial_w = np.ones(30)/10\n",
    "max_iters = 10000\n",
    "\n",
    "x_train, y_train, x_test, y_test = split_data(x,y, 0.5, 345)\n",
    "\n",
    "gammas = np.logspace(-7,-1,10)\n",
    "losses = []\n",
    "\n",
    "for gamma in gammas:\n",
    "#gamma = 0.000001\n",
    "\n",
    "    #loss, w = ridge_regression(y_train, x_train, 0.3)\n",
    "    loss, w = gradient_descent(y, tx, initial_w, max_iters, gamma)\n",
    "    loss_test = cost_function(y_test, x_test,w)\n",
    "    \n",
    "    losses.append(loss_test)\n",
    "\n",
    "    y_predicted = np.sign(np.dot(x_test,w))\n",
    "    print(sum(y_predicted == y_test)/len(y_test))\n",
    "    \n",
    "plt.plot(gammas, losses)"
   ]
  },
  {
   "cell_type": "code",
   "execution_count": 30,
   "metadata": {
    "collapsed": true
   },
   "outputs": [],
   "source": [
    "y_predicted = np.sign(np.dot(x_test,w))\n",
    "create_csv_submission(ids_test, np.sign(y_predicted), \"predictions1.csv\")"
   ]
  },
  {
   "cell_type": "code",
   "execution_count": 28,
   "metadata": {},
   "outputs": [
    {
     "data": {
      "text/plain": [
       "array([  4.30546184e+04,  -9.75912602e+03,  -1.48425050e+04,\n",
       "         3.25392875e+02,   1.81045795e+05,   2.48059959e+05,\n",
       "         1.80507597e+05,  -1.44814430e+02,   3.20750210e+03,\n",
       "         1.91478970e+04,  -7.19955748e+01,   1.54300079e+02,\n",
       "         1.80572261e+05,  -4.76377031e+03,   5.70617503e+01,\n",
       "         1.47649214e+02,  -6.08693137e+03,   7.60895315e+01,\n",
       "         3.82328349e+01,  -1.69504866e+03,  -1.93638884e+02,\n",
       "         1.11550181e+04,   2.52195647e+02,   2.86294537e+04,\n",
       "         1.32120464e+04,   1.29015277e+04,   1.92116121e+05,\n",
       "         1.80780443e+05,   1.80459319e+05,   2.99987276e+04])"
      ]
     },
     "execution_count": 28,
     "metadata": {},
     "output_type": "execute_result"
    }
   ],
   "source": [
    "w"
   ]
  },
  {
   "cell_type": "code",
   "execution_count": null,
   "metadata": {
    "collapsed": true
   },
   "outputs": [],
   "source": []
  }
 ],
 "metadata": {
  "kernelspec": {
   "display_name": "Python 3",
   "language": "python",
   "name": "python3"
  },
  "language_info": {
   "codemirror_mode": {
    "name": "ipython",
    "version": 3
   },
   "file_extension": ".py",
   "mimetype": "text/x-python",
   "name": "python",
   "nbconvert_exporter": "python",
   "pygments_lexer": "ipython3",
   "version": "3.6.1"
  }
 },
 "nbformat": 4,
 "nbformat_minor": 2
}
