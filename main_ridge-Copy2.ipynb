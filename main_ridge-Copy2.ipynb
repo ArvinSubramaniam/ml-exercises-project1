{
 "cells": [
  {
   "cell_type": "code",
   "execution_count": 16,
   "metadata": {
    "collapsed": true
   },
   "outputs": [],
   "source": [
    "import numpy as np\n",
    "from implementations_leo import *\n",
    "from proj1_helpers import *\n",
    "import matplotlib.pyplot as plt\n",
    "%matplotlib inline\n",
    "%reload_ext autoreload\n",
    "%autoreload 2"
   ]
  },
  {
   "cell_type": "code",
   "execution_count": 49,
   "metadata": {
    "collapsed": true
   },
   "outputs": [],
   "source": [
    "#Load the data both from train and test csv file\n",
    "y, x, ids = load_csv_data(\"train.csv\", sub_sample=False)\n",
    "#_, x_submission, ids_submission = load_csv_data(\"test.csv\", sub_sample=False)\n",
    "\n"
   ]
  },
  {
   "cell_type": "code",
   "execution_count": 50,
   "metadata": {},
   "outputs": [
    {
     "name": "stdout",
     "output_type": "stream",
     "text": [
      "[[  1.24711000e+02   2.66600000e+00   3.06400000e+00]\n",
      " [ -9.99000000e+02  -9.99000000e+02   3.47300000e+00]\n",
      " [ -9.99000000e+02  -9.99000000e+02   3.14800000e+00]\n",
      " [ -9.99000000e+02  -9.99000000e+02   3.31000000e+00]\n",
      " [ -9.99000000e+02  -9.99000000e+02   3.89100000e+00]\n",
      " [  2.84584000e+02  -5.40000000e-01   1.36200000e+00]\n",
      " [  1.58359000e+02   1.13000000e-01   2.94100000e+00]]\n",
      "[[  1.24711000e+02   2.66600000e+00   3.06400000e+00]\n",
      " [  5.89317199e+05   5.89317199e+05   5.89317199e+05]\n",
      " [  2.54625911e+05   2.54625911e+05   2.54625911e+05]\n",
      " [  5.89317199e+05   5.89317199e+05   5.89317199e+05]\n",
      " [  5.89317199e+05   5.89317199e+05   5.89317199e+05]\n",
      " [  2.84584000e+02  -5.40000000e-01   1.36200000e+00]\n",
      " [  1.58359000e+02   1.13000000e-01   2.94100000e+00]]\n"
     ]
    }
   ],
   "source": [
    "#substitute non values with 0\n",
    "x[x==-999] = 0\n"
   ]
  },
  {
   "cell_type": "code",
   "execution_count": 21,
   "metadata": {},
   "outputs": [
    {
     "name": "stdout",
     "output_type": "stream",
     "text": [
      "Correct answers:  58.1013333333 % for lambda = 0.000000\n",
      "Correct answers:  57.992 % for lambda = 0.000000\n",
      "Correct answers:  55.0306666667 % for lambda = 0.000000\n",
      "Correct answers:  55.204 % for lambda = 0.000000\n",
      "Correct answers:  54.0933333333 % for lambda = 0.000000\n",
      "Correct answers:  53.244 % for lambda = 0.000000\n",
      "Correct answers:  53.0933333333 % for lambda = 0.000000\n",
      "Correct answers:  52.404 % for lambda = 0.000000\n",
      "Correct answers:  54.7053333333 % for lambda = 0.000000\n",
      "Correct answers:  61.076 % for lambda = 0.000000\n",
      "Correct answers:  68.3946666667 % for lambda = 0.000000\n",
      "Correct answers:  71.14 % for lambda = 0.000000\n",
      "Correct answers:  72.4666666667 % for lambda = 0.000000\n",
      "Correct answers:  73.9213333333 % for lambda = 0.000000\n",
      "Correct answers:  74.22 % for lambda = 0.000000\n",
      "Correct answers:  74.8986666667 % for lambda = 0.000000\n",
      "Correct answers:  75.3946666667 % for lambda = 0.000001\n",
      "Correct answers:  75.5626666667 % for lambda = 0.000001\n",
      "Correct answers:  75.8013333333 % for lambda = 0.000001\n",
      "Correct answers:  75.812 % for lambda = 0.000001\n",
      "Correct answers:  75.7586666667 % for lambda = 0.000002\n",
      "Correct answers:  75.86 % for lambda = 0.000002\n",
      "Correct answers:  76.064 % for lambda = 0.000003\n",
      "Correct answers:  76.2413333333 % for lambda = 0.000004\n",
      "Correct answers:  77.536 % for lambda = 0.000005\n",
      "Correct answers:  77.0053333333 % for lambda = 0.000006\n",
      "Correct answers:  77.5026666667 % for lambda = 0.000008\n",
      "Correct answers:  77.504 % for lambda = 0.000010\n",
      "Correct answers:  77.9666666667 % for lambda = 0.000013\n",
      "Correct answers:  78.8613333333 % for lambda = 0.000017\n",
      "Correct answers:  79.536 % for lambda = 0.000022\n",
      "Correct answers:  79.844 % for lambda = 0.000028\n",
      "Correct answers:  80.4573333333 % for lambda = 0.000036\n",
      "Correct answers:  80.712 % for lambda = 0.000046\n",
      "Correct answers:  81.0053333333 % for lambda = 0.000060\n",
      "Correct answers:  81.1813333333 % for lambda = 0.000077\n",
      "Correct answers:  81.336 % for lambda = 0.000100\n",
      "Correct answers:  81.464 % for lambda = 0.000129\n",
      "Correct answers:  81.5906666667 % for lambda = 0.000167\n",
      "Correct answers:  81.644 % for lambda = 0.000215\n",
      "Correct answers:  81.636 % for lambda = 0.000278\n",
      "Correct answers:  81.656 % for lambda = 0.000359\n",
      "Correct answers:  81.7146666667 % for lambda = 0.000464\n",
      "Correct answers:  81.7106666667 % for lambda = 0.000599\n",
      "Correct answers:  81.752 % for lambda = 0.000774\n",
      "Correct answers:  81.7933333333 % for lambda = 0.001000\n",
      "Correct answers:  81.7893333333 % for lambda = 0.001292\n",
      "Correct answers:  81.8013333333 % for lambda = 0.001668\n",
      "Correct answers:  81.816 % for lambda = 0.002154\n",
      "Correct answers:  81.8306666667 % for lambda = 0.002783\n",
      "Correct answers:  81.8426666667 % for lambda = 0.003594\n",
      "Correct answers:  81.8373333333 % for lambda = 0.004642\n",
      "Correct answers:  81.8546666667 % for lambda = 0.005995\n",
      "Correct answers:  81.8573333333 % for lambda = 0.007743\n",
      "Correct answers:  81.8786666667 % for lambda = 0.010000\n",
      "Correct answers:  81.876 % for lambda = 0.012915\n",
      "Correct answers:  81.876 % for lambda = 0.016681\n",
      "Correct answers:  81.8746666667 % for lambda = 0.021544\n",
      "Correct answers:  81.8506666667 % for lambda = 0.027826\n",
      "Correct answers:  81.8746666667 % for lambda = 0.035938\n",
      "Correct answers:  81.856 % for lambda = 0.046416\n",
      "Correct answers:  81.8213333333 % for lambda = 0.059948\n",
      "Correct answers:  81.7973333333 % for lambda = 0.077426\n",
      "Correct answers:  81.792 % for lambda = 0.100000\n",
      "Correct answers:  81.8053333333 % for lambda = 0.129155\n",
      "Correct answers:  81.7786666667 % for lambda = 0.166810\n",
      "Correct answers:  81.7573333333 % for lambda = 0.215443\n",
      "Correct answers:  81.72 % for lambda = 0.278256\n",
      "Correct answers:  81.672 % for lambda = 0.359381\n",
      "Correct answers:  81.6493333333 % for lambda = 0.464159\n",
      "Correct answers:  81.6173333333 % for lambda = 0.599484\n",
      "Correct answers:  81.5906666667 % for lambda = 0.774264\n",
      "Correct answers:  81.54 % for lambda = 1.000000\n",
      "Correct answers:  81.4946666667 % for lambda = 1.291550\n",
      "Correct answers:  81.4866666667 % for lambda = 1.668101\n",
      "Correct answers:  81.4613333333 % for lambda = 2.154435\n",
      "Correct answers:  81.436 % for lambda = 2.782559\n",
      "Correct answers:  81.4146666667 % for lambda = 3.593814\n",
      "Correct answers:  81.3653333333 % for lambda = 4.641589\n",
      "Correct answers:  81.3506666667 % for lambda = 5.994843\n",
      "Correct answers:  81.3266666667 % for lambda = 7.742637\n",
      "Correct answers:  81.2986666667 % for lambda = 10.000000\n",
      "Correct answers:  81.248 % for lambda = 12.915497\n",
      "Correct answers:  81.232 % for lambda = 16.681005\n",
      "Correct answers:  81.2346666667 % for lambda = 21.544347\n",
      "Correct answers:  81.2266666667 % for lambda = 27.825594\n",
      "Correct answers:  81.2253333333 % for lambda = 35.938137\n",
      "Correct answers:  81.2013333333 % for lambda = 46.415888\n",
      "Correct answers:  81.188 % for lambda = 59.948425\n",
      "Correct answers:  81.1733333333 % for lambda = 77.426368\n",
      "Correct answers:  81.14 % for lambda = 100.000000\n",
      "Correct answers:  81.148 % for lambda = 129.154967\n",
      "Correct answers:  81.1 % for lambda = 166.810054\n",
      "Correct answers:  81.0453333333 % for lambda = 215.443469\n",
      "Correct answers:  80.98 % for lambda = 278.255940\n",
      "Correct answers:  80.9253333333 % for lambda = 359.381366\n",
      "Correct answers:  80.6146666667 % for lambda = 464.158883\n",
      "Correct answers:  78.7293333333 % for lambda = 599.484250\n",
      "Correct answers:  74.3666666667 % for lambda = 774.263683\n",
      "Correct answers:  79.8226666667 % for lambda = 1000.000000\n"
     ]
    },
    {
     "data": {
      "image/png": "[encoded data removed]",
      "text/plain": [
       "<matplotlib.figure.Figure at 0x2b856419630>"
      ]
     },
     "metadata": {},
     "output_type": "display_data"
    }
   ],
   "source": [
    "'''Define values to perform Ridge regression with simple splitting of the dataset'''\n",
    "\n",
    "degree = 12\n",
    "ratio = 0.7 #train/test examples\n",
    "lambdas = np.logspace(-8,3,100)\n",
    "seed = 5\n",
    "\n",
    "ridge_with_simple_splitting(y,x, degree, ratio, lambdas, seed)"
   ]
  },
  {
   "cell_type": "code",
   "execution_count": 13,
   "metadata": {
    "collapsed": true
   },
   "outputs": [],
   "source": [
    "def ridge_with_simple_splitting(y,x, degree, ratio, lambdas, seed = 1):\n",
    "    loss = []\n",
    "    y_train, x_train, y_test, x_test = split_data(y, x, ratio, seed)\n",
    "\n",
    "    phi_test = build_poly(x_test, degree, False)\n",
    "    phi_train = build_poly(x_train, degree, False)\n",
    "\n",
    "    for lambda_ in lambdas:\n",
    "\n",
    "        w = ridge_regression(y_train, phi_train, lambda_)\n",
    "        rmse_test = cost_function(y_test, phi_test, w)\n",
    "\n",
    "        loss.append(rmse_test)\n",
    "\n",
    "        print(\"Correct answers: \",predict(y_test,phi_test,w), '%', \"for lambda = %f\" %lambda_)\n",
    "    semilog_loss_lambda_plot(loss, lambdas, seed, degree)"
   ]
  },
  {
   "cell_type": "code",
   "execution_count": 23,
   "metadata": {
    "collapsed": true
   },
   "outputs": [],
   "source": [
    "def cross_validation_ridge(y, x, k_fold, degree, lambdas, seed = 1):\n",
    "    '''perform cross validation on ridge regression\n",
    "    lambdas: array, better if log spaced\n",
    "    print percentage of correct answers for each k, lambda\n",
    "    plot in semilog scale rmse as function of lambda'''\n",
    "    \n",
    "    #create empty\n",
    "    loss = np.zeros((len(lambdas))) \n",
    "    #add poly values to the features\n",
    "    phi = build_poly(x, degree, False)\n",
    "    #build indices for cross validation\n",
    "    k_indices = build_k_indices(y, k_fold, seed)\n",
    "\n",
    "    for k in range(k_fold):\n",
    "        #split data according to kth fold\n",
    "        y_train, phi_train, y_test, phi_test = split_data_cross(y, phi, k, k_indices, degree)\n",
    "\n",
    "        loss_temp = [] #empty list to store losses for a given k\n",
    "        \n",
    "        for lambda_ in lambdas:\n",
    "            w = ridge_regression(y_train, phi_train, lambda_)\n",
    "            \n",
    "            rmse_test = cost_function(y_test, phi_test, w)/k_fold #divide by k_fold in order to mean over them\n",
    "            loss_temp.append(rmse_test)\n",
    "\n",
    "            print(\"Correct answers: \",predict(y_test,phi_test,w), '%', \"for k = %i, lambda = %f\" %(k, lambda_))\n",
    "        loss += loss_temp\n",
    "    semilog_loss_lambda_plot(loss, lambdas, seed, degree)"
   ]
  },
  {
   "cell_type": "code",
   "execution_count": 43,
   "metadata": {},
   "outputs": [
    {
     "ename": "KeyboardInterrupt",
     "evalue": "",
     "output_type": "error",
     "traceback": [
      "\u001b[1;31m---------------------------------------------------------------------------\u001b[0m",
      "\u001b[1;31mKeyboardInterrupt\u001b[0m                         Traceback (most recent call last)",
      "\u001b[1;32m<ipython-input-43-582e02e5c34f>\u001b[0m in \u001b[0;36m<module>\u001b[1;34m()\u001b[0m\n\u001b[0;32m      4\u001b[0m \u001b[0mseed\u001b[0m \u001b[1;33m=\u001b[0m \u001b[1;36m101\u001b[0m\u001b[1;33m\u001b[0m\u001b[0m\n\u001b[0;32m      5\u001b[0m \u001b[1;33m\u001b[0m\u001b[0m\n\u001b[1;32m----> 6\u001b[1;33m \u001b[0mcross_validation_ridge\u001b[0m\u001b[1;33m(\u001b[0m\u001b[0my\u001b[0m\u001b[1;33m,\u001b[0m \u001b[0mx\u001b[0m\u001b[1;33m,\u001b[0m \u001b[0mk_fold\u001b[0m\u001b[1;33m,\u001b[0m \u001b[0mdegree\u001b[0m\u001b[1;33m,\u001b[0m \u001b[0mlambdas\u001b[0m\u001b[1;33m,\u001b[0m \u001b[0mseed\u001b[0m\u001b[1;33m)\u001b[0m\u001b[1;33m\u001b[0m\u001b[0m\n\u001b[0m",
      "\u001b[1;32m<ipython-input-23-e3d60b172c08>\u001b[0m in \u001b[0;36mcross_validation_ridge\u001b[1;34m(y, x, k_fold, degree, lambdas, seed)\u001b[0m\n\u001b[0;32m      8\u001b[0m     \u001b[0mloss\u001b[0m \u001b[1;33m=\u001b[0m \u001b[0mnp\u001b[0m\u001b[1;33m.\u001b[0m\u001b[0mzeros\u001b[0m\u001b[1;33m(\u001b[0m\u001b[1;33m(\u001b[0m\u001b[0mlen\u001b[0m\u001b[1;33m(\u001b[0m\u001b[0mlambdas\u001b[0m\u001b[1;33m)\u001b[0m\u001b[1;33m)\u001b[0m\u001b[1;33m)\u001b[0m\u001b[1;33m\u001b[0m\u001b[0m\n\u001b[0;32m      9\u001b[0m     \u001b[1;31m#add poly values to the features\u001b[0m\u001b[1;33m\u001b[0m\u001b[1;33m\u001b[0m\u001b[0m\n\u001b[1;32m---> 10\u001b[1;33m     \u001b[0mphi\u001b[0m \u001b[1;33m=\u001b[0m \u001b[0mbuild_poly\u001b[0m\u001b[1;33m(\u001b[0m\u001b[0mx\u001b[0m\u001b[1;33m,\u001b[0m \u001b[0mdegree\u001b[0m\u001b[1;33m,\u001b[0m \u001b[1;32mFalse\u001b[0m\u001b[1;33m)\u001b[0m\u001b[1;33m\u001b[0m\u001b[0m\n\u001b[0m\u001b[0;32m     11\u001b[0m     \u001b[1;31m#build indices for cross validation\u001b[0m\u001b[1;33m\u001b[0m\u001b[1;33m\u001b[0m\u001b[0m\n\u001b[0;32m     12\u001b[0m     \u001b[0mk_indices\u001b[0m \u001b[1;33m=\u001b[0m \u001b[0mbuild_k_indices\u001b[0m\u001b[1;33m(\u001b[0m\u001b[0my\u001b[0m\u001b[1;33m,\u001b[0m \u001b[0mk_fold\u001b[0m\u001b[1;33m,\u001b[0m \u001b[0mseed\u001b[0m\u001b[1;33m)\u001b[0m\u001b[1;33m\u001b[0m\u001b[0m\n",
      "\u001b[1;32mC:\\Users\\leope\\Google Drive\\EPFL\\ML\\ml-exercises-project1\\implementations_leo.py\u001b[0m in \u001b[0;36mbuild_poly\u001b[1;34m(x, degree, normalise)\u001b[0m\n\u001b[0;32m     80\u001b[0m     \u001b[1;32mfor\u001b[0m \u001b[0mcol\u001b[0m \u001b[1;32min\u001b[0m \u001b[0mrange\u001b[0m\u001b[1;33m(\u001b[0m\u001b[0mx\u001b[0m\u001b[1;33m.\u001b[0m\u001b[0mshape\u001b[0m\u001b[1;33m[\u001b[0m\u001b[1;36m1\u001b[0m\u001b[1;33m]\u001b[0m\u001b[1;33m)\u001b[0m\u001b[1;33m:\u001b[0m\u001b[1;33m\u001b[0m\u001b[0m\n\u001b[0;32m     81\u001b[0m             \u001b[1;32mfor\u001b[0m \u001b[0mdeg\u001b[0m \u001b[1;32min\u001b[0m \u001b[0mrange\u001b[0m\u001b[1;33m(\u001b[0m\u001b[0mdegree\u001b[0m\u001b[1;33m)\u001b[0m\u001b[1;33m:\u001b[0m\u001b[1;33m\u001b[0m\u001b[0m\n\u001b[1;32m---> 82\u001b[1;33m                 \u001b[0mphi\u001b[0m\u001b[1;33m[\u001b[0m\u001b[1;33m:\u001b[0m\u001b[1;33m,\u001b[0m\u001b[0mx\u001b[0m\u001b[1;33m.\u001b[0m\u001b[0mshape\u001b[0m\u001b[1;33m[\u001b[0m\u001b[1;36m1\u001b[0m\u001b[1;33m]\u001b[0m \u001b[1;33m*\u001b[0m\u001b[0mdeg\u001b[0m \u001b[1;33m+\u001b[0m \u001b[0mcol\u001b[0m\u001b[1;33m]\u001b[0m \u001b[1;33m=\u001b[0m \u001b[0mx\u001b[0m\u001b[1;33m[\u001b[0m\u001b[1;33m:\u001b[0m\u001b[1;33m,\u001b[0m\u001b[0mcol\u001b[0m\u001b[1;33m]\u001b[0m\u001b[1;33m**\u001b[0m\u001b[1;33m(\u001b[0m\u001b[0mdeg\u001b[0m\u001b[1;33m+\u001b[0m\u001b[1;36m1\u001b[0m\u001b[1;33m)\u001b[0m\u001b[1;33m\u001b[0m\u001b[0m\n\u001b[0m\u001b[0;32m     83\u001b[0m \u001b[1;33m\u001b[0m\u001b[0m\n\u001b[0;32m     84\u001b[0m     \u001b[1;32mreturn\u001b[0m \u001b[0mphi\u001b[0m\u001b[1;33m\u001b[0m\u001b[0m\n",
      "\u001b[1;31mKeyboardInterrupt\u001b[0m: "
     ]
    }
   ],
   "source": [
    "k_fold = 4\n",
    "degree = 12\n",
    "lambdas = np.logspace(-6,2,100)\n",
    "seed = 101\n",
    "\n",
    "cross_validation_ridge(y, x, k_fold, degree, lambdas, seed)"
   ]
  },
  {
   "cell_type": "code",
   "execution_count": 16,
   "metadata": {
    "collapsed": true
   },
   "outputs": [],
   "source": [
    "def create_submission(x_submission, degree, ids_submission):\n",
    "    phi_submission = build_poly(x_submission, degree, False) \n",
    "\n",
    "    y_predicted = np.sign(phi_submission.dot(w))\n",
    "    create_csv_submission(ids_submission, y_predicted, \"predictions_6.csv\")"
   ]
  }
 ],
 "metadata": {
  "kernelspec": {
   "display_name": "Python 3",
   "language": "python",
   "name": "python3"
  },
  "language_info": {
   "codemirror_mode": {
    "name": "ipython",
    "version": 3
   },
   "file_extension": ".py",
   "mimetype": "text/x-python",
   "name": "python",
   "nbconvert_exporter": "python",
   "pygments_lexer": "ipython3",
   "version": "3.6.1"
  }
 },
 "nbformat": 4,
 "nbformat_minor": 2
}
