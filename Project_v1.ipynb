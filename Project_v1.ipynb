{
 "cells": [
  {
   "cell_type": "code",
   "execution_count": 7,
   "metadata": {},
   "outputs": [],
   "source": [
    "import numpy as np\n",
    "from implementations_leo import *\n",
    "from proj1_helpers import *\n",
    "from Package_build import standardize, learning_by_gradient_descent, logistic_reg_GD\n",
    "import matplotlib.pyplot as plt\n",
    "%matplotlib inline\n",
    "%reload_ext autoreload\n",
    "%autoreload 2"
   ]
  },
  {
   "cell_type": "code",
   "execution_count": 9,
   "metadata": {},
   "outputs": [],
   "source": [
    "#Load the data both from train and test csv file\n",
    "y, x, ids = load_csv_data(\"train.csv\", sub_sample=False)\n",
    "_, x_submission, ids_submission = load_csv_data(\"test.csv\", sub_sample=False)\n",
    "\n"
   ]
  },
  {
   "cell_type": "code",
   "execution_count": 3,
   "metadata": {},
   "outputs": [
    {
     "name": "stdout",
     "output_type": "stream",
     "text": [
      "With repeated lines because -999 appears more than once in some lines [1 1 1 1 1 1 1 2 2 2 2 2 2 2 2 3 3 3 3 3 3 3 3 3 3 4 4 4 4 4 4 4 4 4 4 7 7\n",
      " 7 7 7 7 7 8 8 8 8 8 8 8 8]\n",
      "\n",
      "truncated output [ 1. -1. -1. -1. -1. -1.  1.  1. -1.  1. -1. -1. -1. -1. -1.  1. -1.  1.\n",
      " -1. -1.]\n",
      "The list of lines with insignificant data, with no repetitions\n"
     ]
    },
    {
     "data": {
      "text/plain": [
       "array([ 1,  2,  3,  4,  7,  8,  9, 10, 12, 13, 14, 15, 16, 17, 18, 19, 20,\n",
       "       21, 22, 24, 25, 26, 28, 30, 34, 35, 36, 37, 40, 41, 43, 44, 47, 48,\n",
       "       49, 50, 52, 53, 54, 55, 56, 58, 61, 62, 63, 64, 65, 66, 67, 69], dtype=int64)"
      ]
     },
     "execution_count": 3,
     "metadata": {},
     "output_type": "execute_result"
    }
   ],
   "source": [
    "bad_sub_arrays = np.where(x == -999.)[0] #find lines of the matrix x where we have at least \n",
    "print('With repeated lines because -999 appears more than once in some lines',bad_sub_arrays[:50]) # just the beginning\n",
    "print('\\ntruncated output', y[:20])\n",
    "bad_sub_arrays = np.unique(bad_sub_arrays)\n",
    "print('The list of lines with insignificant data, with no repetitions')\n",
    "bad_sub_arrays[:50]"
   ]
  },
  {
   "cell_type": "code",
   "execution_count": 4,
   "metadata": {},
   "outputs": [
    {
     "name": "stdout",
     "output_type": "stream",
     "text": [
      "There are no -999 anymore (array([], dtype=int64), array([], dtype=int64))\n",
      "\n",
      " Here is a bit of the clean x\n",
      " [[ 0.25767126  0.53283515  0.47461094 -1.09345441 -0.87064819 -0.63242833\n",
      "   0.98731346  1.37804494  0.51549536 -0.64313461  0.09205652  0.8203249\n",
      "  -0.6621994  -0.44063129  0.86513362  0.20892619 -0.02803712  1.90142579\n",
      "  -1.352776   -0.89329993 -0.15656359 -0.54298155 -0.6604439  -0.57866597\n",
      "   1.23439906  0.25179525 -0.36784371  0.61296467 -1.35932881 -0.64515168]\n",
      " [-0.54438812 -0.70635039 -0.47504382  0.06438322  0.11525063 -0.233525\n",
      "   0.09492308 -0.81913195  1.21210996 -0.02033658 -0.81324448 -0.17116673\n",
      "   1.28298905  0.26731433  0.31741279  0.73028451 -0.72463203 -0.73523156\n",
      "   0.99980927 -0.33319688  1.22941639 -0.3705594   1.51413316 -0.23960808\n",
      "  -1.37778781 -0.35452909 -0.05432042  0.11591226  1.71182322  0.09496062]\n",
      " [ 0.4269521  -0.20839975  0.71903446 -0.0694513  -0.97175138 -0.54847232\n",
      "   0.27668569  1.21925954 -0.87776921  0.18766458  1.72141616  0.8170812\n",
      "   0.82116366 -0.56825219  0.94652866  1.32423702  1.55585601  0.56681114\n",
      "  -0.55517744 -0.38740116 -0.79938485 -0.29030402 -0.6604439   0.23663094\n",
      "   0.4980395   0.80782286 -0.03253547  0.07041435 -1.52001263 -0.0322922 ]\n",
      " [-0.13287303 -0.8124966  -0.06837513 -1.05629417  0.07355271 -0.31333161\n",
      "  -0.14473634  1.15083981  0.33213477 -0.32032628 -0.38245235  0.78572541\n",
      "   0.76594541 -0.32817127 -0.56436687 -0.18869202 -0.49465605 -0.13473848\n",
      "   1.35509316 -0.76303633  1.18035027 -0.31552101  1.51413316 -0.44167555\n",
      "  -0.4490357   0.17386295 -0.03225617  0.87372149 -1.14141514 -0.16373662]\n",
      " [ 0.30723413 -1.12306535  0.8123107   0.82083521 -0.27373957 -0.03451372\n",
      "  -0.011685   -0.85398728 -0.73208545  1.2233477  -0.75495548  0.43756804\n",
      "  -0.64462995  1.78050472  0.16394921 -0.82884084  0.41153194  1.17649118\n",
      "  -0.54746585 -0.86668971 -0.54027164  0.85873134 -0.6604439   1.30055855\n",
      "   0.66523778  0.78903067  0.76221178 -0.3840755  -1.5299178   0.87372056]\n",
      " [-0.19004071 -0.26309887 -0.19285803  0.43679801  1.4290208   1.60472938\n",
      "  -1.37866228 -0.26015569 -0.95482099  0.218568    1.24508576  0.72301384\n",
      "   0.58272121 -0.7013647  -0.07260514 -1.28860408  0.64202878 -0.81540866\n",
      "  -0.45437596  0.33742293 -0.65053258 -0.32031846 -0.6604439   0.93642928\n",
      "  -1.11954663  1.23341059 -0.44865284  1.46128049 -0.05404793  0.28432109]\n",
      " [-0.39596286 -0.69093577 -0.10476244  0.28008557  0.70930323 -0.1555024\n",
      "  -0.49657086 -0.94951671 -0.14386693 -0.32396559  0.05471513  0.72301384\n",
      "   1.3005585   0.13164132 -0.92386166  1.09655523  0.83408632 -0.49386508\n",
      "   0.43741415 -0.66809686  0.6301482   0.16542498 -0.6604439  -0.38513656\n",
      "   0.5719045  -1.10898007 -0.78482999 -1.30626427 -0.80463946 -0.64741367]\n",
      " [-0.01868582 -0.95054522 -0.13000276  1.13581935  0.11696425 -0.20518535\n",
      "  -0.23854032 -1.09539273  0.12949354  1.00574921 -1.11015406  0.2169963\n",
      "   1.30557834  2.70720496  0.81087025  1.36988337 -0.67528945  0.19599206\n",
      "  -1.61992745  0.23730665 -1.53041486  1.29221762  1.51413316  1.10861353\n",
      "   0.79521727  0.00694412 -0.61784308 -0.60862969 -0.33249317  0.64707888]\n",
      " [ 0.10485101  0.93576151 -0.22092193 -0.63242371  1.51527267  1.18923346\n",
      "  -1.46912606  0.96623564 -0.73502177 -0.60228835 -0.6483959   0.7759943\n",
      "   0.89395136 -0.26793204  0.18514584  0.40636041 -0.81182358 -0.47716151\n",
      "  -1.62818987 -0.22736502  0.65991865 -0.96389866 -0.6604439  -0.37717064\n",
      "   1.77951127 -0.53360757 -0.0876185  -0.96478535  1.68926145 -0.43497172]\n",
      " [ 0.0048693   0.8939079   0.20146059 -0.93725299  0.41456175 -0.33433559\n",
      "  -0.35015871  1.0695107  -0.62351249 -0.74729258  0.55381468  0.75653209\n",
      "   1.1675327  -0.66174427 -0.14552153 -0.43067267  0.07092582  0.85995867\n",
      "   1.59855902 -0.73415393 -0.67037955 -0.18051323 -0.6604439  -0.52450355\n",
      "   1.24985918  0.31480434 -0.78824359 -0.47458209 -1.44352273 -0.73613888]]\n",
      "\n",
      "Here is a bit of the clean y [ 1. -1.  1. -1.  1.  1. -1.  1.  1. -1.]\n"
     ]
    }
   ],
   "source": [
    "xclean = np.delete(x, bad_sub_arrays, axis = 0)\n",
    "print('There are no -999 anymore',np.where(xclean == -999.)) #it works!\n",
    "\n",
    "xclean = standardize(xclean)\n",
    "print('\\n Here is a bit of the clean x\\n', xclean[0:10]) #works\n",
    "\n",
    "yclean = np.delete(y, bad_sub_arrays, axis = 0)\n",
    "print('\\nHere is a bit of the clean y', yclean[:10]) #appears to work. Compare with y above"
   ]
  },
  {
   "cell_type": "code",
   "execution_count": 8,
   "metadata": {},
   "outputs": [
    {
     "name": "stdout",
     "output_type": "stream",
     "text": [
      "(20434, 361)\n",
      "Correct answers:  82.436135852 % for lambda = 0.000010\n"
     ]
    },
    {
     "name": "stderr",
     "output_type": "stream",
     "text": [
      "C:\\Users\\leope\\Anaconda3\\lib\\site-packages\\matplotlib\\axes\\_base.py:2917: UserWarning: Attempting to set identical left==right results\n",
      "in singular transformations; automatically expanding.\n",
      "left=1e-05, right=1e-05\n",
      "  'left=%s, right=%s') % (left, right))\n"
     ]
    },
    {
     "data": {
      "image/png": "[encoded data removed]",
      "text/plain": [
       "<matplotlib.figure.Figure at 0x2543d9a6eb8>"
      ]
     },
     "metadata": {},
     "output_type": "display_data"
    }
   ],
   "source": [
    "'''Define values to perform Ridge regression with simple splitting of the dataset'''\n",
    "\n",
    "degree = 12\n",
    "ratio = 0.7 #train/test examples\n",
    "lambdas = [1e-5]\n",
    "seed = 5\n",
    "\n",
    "ridge_with_simple_splitting(yclean,xclean, degree, ratio, lambdas, seed)"
   ]
  },
  {
   "cell_type": "code",
   "execution_count": null,
   "metadata": {},
   "outputs": [],
   "source": [
    "tx = np.c_[np.ones(np.size(xclean[:,0])), xclean]\n",
    "#w = least_squares(yclean[:10], tx.T[0:10])\n",
    "#logistic_reg_GD(yclean, tx, w)"
   ]
  },
  {
   "cell_type": "code",
   "execution_count": 5,
   "metadata": {
    "collapsed": true
   },
   "outputs": [],
   "source": [
    "def ridge_with_simple_splitting(y,x, degree, ratio, lambdas, seed = 1):\n",
    "    loss = []\n",
    "    y_train, x_train, y_test, x_test = split_data(y, x, ratio, seed)\n",
    "\n",
    "    phi_test = build_poly(x_test, degree)\n",
    "    phi_train = build_poly(x_train, degree)\n",
    "    print(phi_test.shape)\n",
    "\n",
    "    for lambda_ in lambdas:\n",
    "\n",
    "        w = ridge_regression(y_train, phi_train, lambda_)\n",
    "        rmse_test = cost_function(y_test, phi_test, w)\n",
    "\n",
    "        loss.append(rmse_test)\n",
    "\n",
    "        print(\"Correct answers: \",predict(y_test,phi_test,w), '%', \"for lambda = %f\" %lambda_)\n",
    "    semilog_loss_lambda_plot(loss, lambdas, seed, degree)"
   ]
  },
  {
   "cell_type": "code",
   "execution_count": null,
   "metadata": {
    "collapsed": true
   },
   "outputs": [],
   "source": [
    "def cross_validation_ridge(y, x, k_fold, degree, lambdas, seed = 1):\n",
    "    '''perform cross validation on ridge regression\n",
    "    lambdas: array, better if log spaced\n",
    "    print percentage of correct answers for each k, lambda\n",
    "    plot in semilog scale rmse as function of lambda'''\n",
    "    \n",
    "    #create empty\n",
    "    loss = np.zeros((len(lambdas))) \n",
    "    #add poly values to the features\n",
    "    phi = build_poly(x, degree, False)\n",
    "    #build indices for cross validation\n",
    "    k_indices = build_k_indices(y, k_fold, seed)\n",
    "\n",
    "    for k in range(k_fold):\n",
    "        #split data according to kth fold\n",
    "        y_train, phi_train, y_test, phi_test = split_data_cross(y, phi, k, k_indices, degree)\n",
    "\n",
    "        loss_temp = [] #empty list to store losses for a given k\n",
    "        \n",
    "        for lambda_ in lambdas:\n",
    "            w = ridge_regression(y_train, phi_train, lambda_)\n",
    "            \n",
    "            rmse_test = cost_function(y_test, phi_test, w)/k_fold #divide by k_fold in order to mean over them\n",
    "            loss_temp.append(rmse_test)\n",
    "\n",
    "            print(\"Correct answers: \",predict(y_test,phi_test,w), '%', \"for k = %i, lambda = %f\" %(k, lambda_))\n",
    "        loss += loss_temp\n",
    "    semilog_loss_lambda_plot(loss, lambdas, seed, degree)"
   ]
  },
  {
   "cell_type": "code",
   "execution_count": null,
   "metadata": {},
   "outputs": [],
   "source": [
    "k_fold = 4\n",
    "degree = 12\n",
    "lambdas = np.logspace(-8,3,100) #good lambda = 20\n",
    "seed = 6\n",
    "\n",
    "cross_validation_ridge(yclean, xclean, k_fold, degree, lambdas, seed)"
   ]
  },
  {
   "cell_type": "code",
   "execution_count": null,
   "metadata": {
    "collapsed": true
   },
   "outputs": [],
   "source": [
    "def create_submission(x_submission, degree, ids_submission):\n",
    "    phi_submission = build_poly(x_submission, degree, False) \n",
    "\n",
    "    y_predicted = np.sign(phi_submission.dot(w))\n",
    "    create_csv_submission(ids_submission, y_predicted, \"predictions_6.csv\")"
   ]
  },
  {
   "cell_type": "code",
   "execution_count": null,
   "metadata": {
    "collapsed": true
   },
   "outputs": [],
   "source": []
  }
 ],
 "metadata": {
  "kernelspec": {
   "display_name": "Python 3",
   "language": "python",
   "name": "python3"
  },
  "language_info": {
   "codemirror_mode": {
    "name": "ipython",
    "version": 3
   },
   "file_extension": ".py",
   "mimetype": "text/x-python",
   "name": "python",
   "nbconvert_exporter": "python",
   "pygments_lexer": "ipython3",
   "version": "3.6.1"
  },
  "widgets": {
   "state": {},
   "version": "1.1.2"
  }
 },
 "nbformat": 4,
 "nbformat_minor": 2
}
