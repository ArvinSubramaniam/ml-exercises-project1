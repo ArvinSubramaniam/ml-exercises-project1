{
 "cells": [
  {
   "cell_type": "code",
   "execution_count": 10,
   "metadata": {
    "collapsed": true
   },
   "outputs": [],
   "source": [
    "import numpy as np\n",
    "from implementations_leo import *\n",
    "from proj1_helpers import *\n",
    "import matplotlib.pyplot as plt\n",
    "%matplotlib inline\n",
    "%reload_ext autoreload\n",
    "%autoreload 2"
   ]
  },
  {
   "cell_type": "code",
   "execution_count": 3,
   "metadata": {
    "collapsed": true
   },
   "outputs": [],
   "source": [
    "#Load the data both from train and test csv file\n",
    "y, x, ids = load_csv_data(\"train.csv\", sub_sample=False)\n",
    "_, x_submission, ids_submission = load_csv_data(\"test.csv\", sub_sample=False)"
   ]
  },
  {
   "cell_type": "code",
   "execution_count": 4,
   "metadata": {
    "collapsed": true
   },
   "outputs": [],
   "source": [
    "#substitute non values with 0\n",
    "x[x==-999] = 0\n",
    "x_submission[x_submission == -999] = 0"
   ]
  },
  {
   "cell_type": "code",
   "execution_count": 9,
   "metadata": {},
   "outputs": [
    {
     "name": "stderr",
     "output_type": "stream",
     "text": [
      "C:\\Users\\leope\\Google Drive\\EPFL\\ML\\ml-exercises-project1\\implementations_leo.py:45: RuntimeWarning: overflow encountered in exp\n",
      "  phi[:,x.shape[1] *degree-3 + col] = np.exp(x[:,col])\n",
      "C:\\Users\\leope\\Google Drive\\EPFL\\ML\\ml-exercises-project1\\implementations_leo.py:46: RuntimeWarning: divide by zero encountered in log\n",
      "  phi[:,x.shape[1] *degree-2 + col] = np.log(x[:,col])\n",
      "C:\\Users\\leope\\Google Drive\\EPFL\\ML\\ml-exercises-project1\\implementations_leo.py:44: RuntimeWarning: invalid value encountered in sqrt\n",
      "  phi[:,x.shape[1] *degree-4 + col] = np.sqrt(x[:,col])\n",
      "C:\\Users\\leope\\Google Drive\\EPFL\\ML\\ml-exercises-project1\\implementations_leo.py:46: RuntimeWarning: invalid value encountered in log\n",
      "  phi[:,x.shape[1] *degree-2 + col] = np.log(x[:,col])\n"
     ]
    },
    {
     "name": "stdout",
     "output_type": "stream",
     "text": [
      "Correct answers:  0.0 %\n"
     ]
    },
    {
     "name": "stderr",
     "output_type": "stream",
     "text": [
      "C:\\Users\\leope\\Google Drive\\EPFL\\ML\\ml-exercises-project1\\implementations_leo.py:170: RuntimeWarning: invalid value encountered in sign\n",
      "  correct = sum(np.sign(y_pred) == y)/len(y)\n"
     ]
    },
    {
     "data": {
      "text/plain": [
       "[<matplotlib.lines.Line2D at 0x19c99add320>]"
      ]
     },
     "execution_count": 9,
     "metadata": {},
     "output_type": "execute_result"
    },
    {
     "data": {
      "image/png": "[encoded data removed]",
      "text/plain": [
       "<matplotlib.figure.Figure at 0x19c99add160>"
      ]
     },
     "metadata": {},
     "output_type": "display_data"
    }
   ],
   "source": [
    "ratio = .9 #splitting train/test ratio\n",
    "seed = 2   #seed for the random things\n",
    "N = 10\n",
    "loss = []\n",
    "#lambdas = np.logspace(-7,12,50)\n",
    "lambdas = [.7e-5]\n",
    "degree = 12\n",
    "\n",
    "y_train, x_train, y_test, x_test = split_data(y, x, ratio, seed)\n",
    "\n",
    "phi_test = build_poly(x_test, degree, False)\n",
    "phi_train = build_poly(x_train, degree, False)\n",
    "\n",
    "for l in lambdas:\n",
    "    \n",
    "    w = ridge_regression(y_train, phi_train, l)\n",
    "    rmse_test = cost_function(y_test, phi_test, w)\n",
    "\n",
    "    loss.append(rmse_test)\n",
    "\n",
    "    print(\"Correct answers: \",predict(y_test,phi_test,w), '%')\n",
    "plt.title(\"lambda vs loss for seed = %i and degree = %i\" %(seed, degree))\n",
    "plt.xlabel(\"lambda\")\n",
    "plt.ylabel(\"loss\")\n",
    "plt.semilogx(lambdas, loss)"
   ]
  },
  {
   "cell_type": "code",
   "execution_count": 10,
   "metadata": {},
   "outputs": [
    {
     "ename": "LinAlgError",
     "evalue": "Singular matrix",
     "output_type": "error",
     "traceback": [
      "\u001b[1;31m---------------------------------------------------------------------------\u001b[0m",
      "\u001b[1;31mLinAlgError\u001b[0m                               Traceback (most recent call last)",
      "\u001b[1;32m<ipython-input-10-8235fb8f0b66>\u001b[0m in \u001b[0;36m<module>\u001b[1;34m()\u001b[0m\n\u001b[0;32m     13\u001b[0m \u001b[1;32mfor\u001b[0m \u001b[0ml\u001b[0m \u001b[1;32min\u001b[0m \u001b[0mlambdas\u001b[0m\u001b[1;33m:\u001b[0m\u001b[1;33m\u001b[0m\u001b[0m\n\u001b[0;32m     14\u001b[0m \u001b[1;33m\u001b[0m\u001b[0m\n\u001b[1;32m---> 15\u001b[1;33m     \u001b[0mw\u001b[0m \u001b[1;33m=\u001b[0m \u001b[0mridge_regression\u001b[0m\u001b[1;33m(\u001b[0m\u001b[0my_train\u001b[0m\u001b[1;33m,\u001b[0m \u001b[0mphi_train\u001b[0m\u001b[1;33m,\u001b[0m \u001b[0ml\u001b[0m\u001b[1;33m)\u001b[0m\u001b[1;33m\u001b[0m\u001b[0m\n\u001b[0m\u001b[0;32m     16\u001b[0m     \u001b[0mrmse_test\u001b[0m \u001b[1;33m=\u001b[0m \u001b[0mcost_function\u001b[0m\u001b[1;33m(\u001b[0m\u001b[0my_test\u001b[0m\u001b[1;33m,\u001b[0m \u001b[0mphi_test\u001b[0m\u001b[1;33m,\u001b[0m \u001b[0mw\u001b[0m\u001b[1;33m)\u001b[0m\u001b[1;33m\u001b[0m\u001b[0m\n\u001b[0;32m     17\u001b[0m \u001b[1;33m\u001b[0m\u001b[0m\n",
      "\u001b[1;32mC:\\Users\\leope\\Google Drive\\EPFL\\ML\\ml-exercises-project1\\implementations_leo.py\u001b[0m in \u001b[0;36mridge_regression\u001b[1;34m(y, tx, lambda_)\u001b[0m\n\u001b[0;32m    108\u001b[0m \u001b[1;32mdef\u001b[0m \u001b[0mridge_regression\u001b[0m\u001b[1;33m(\u001b[0m\u001b[0my\u001b[0m\u001b[1;33m,\u001b[0m \u001b[0mtx\u001b[0m\u001b[1;33m,\u001b[0m \u001b[0mlambda_\u001b[0m\u001b[1;33m)\u001b[0m\u001b[1;33m:\u001b[0m\u001b[1;33m\u001b[0m\u001b[0m\n\u001b[0;32m    109\u001b[0m \u001b[1;33m\u001b[0m\u001b[0m\n\u001b[1;32m--> 110\u001b[1;33m     \u001b[0mw\u001b[0m \u001b[1;33m=\u001b[0m \u001b[0mnp\u001b[0m\u001b[1;33m.\u001b[0m\u001b[0mlinalg\u001b[0m\u001b[1;33m.\u001b[0m\u001b[0msolve\u001b[0m\u001b[1;33m(\u001b[0m\u001b[0mtx\u001b[0m\u001b[1;33m.\u001b[0m\u001b[0mT\u001b[0m\u001b[1;33m.\u001b[0m\u001b[0mdot\u001b[0m\u001b[1;33m(\u001b[0m\u001b[0mtx\u001b[0m\u001b[1;33m)\u001b[0m \u001b[1;33m+\u001b[0m \u001b[0mlambda_\u001b[0m\u001b[1;33m*\u001b[0m\u001b[1;33m(\u001b[0m\u001b[1;36m2\u001b[0m\u001b[1;33m*\u001b[0m\u001b[0mtx\u001b[0m\u001b[1;33m.\u001b[0m\u001b[0mshape\u001b[0m\u001b[1;33m[\u001b[0m\u001b[1;36m0\u001b[0m\u001b[1;33m]\u001b[0m\u001b[1;33m)\u001b[0m\u001b[1;33m*\u001b[0m\u001b[0mnp\u001b[0m\u001b[1;33m.\u001b[0m\u001b[0midentity\u001b[0m\u001b[1;33m(\u001b[0m\u001b[0mtx\u001b[0m\u001b[1;33m.\u001b[0m\u001b[0mshape\u001b[0m\u001b[1;33m[\u001b[0m\u001b[1;36m1\u001b[0m\u001b[1;33m]\u001b[0m\u001b[1;33m)\u001b[0m\u001b[1;33m,\u001b[0m \u001b[0mtx\u001b[0m\u001b[1;33m.\u001b[0m\u001b[0mT\u001b[0m\u001b[1;33m.\u001b[0m\u001b[0mdot\u001b[0m\u001b[1;33m(\u001b[0m\u001b[0my\u001b[0m\u001b[1;33m)\u001b[0m\u001b[1;33m)\u001b[0m\u001b[1;33m\u001b[0m\u001b[0m\n\u001b[0m\u001b[0;32m    111\u001b[0m \u001b[1;33m\u001b[0m\u001b[0m\n\u001b[0;32m    112\u001b[0m     \u001b[1;32mreturn\u001b[0m \u001b[0mw\u001b[0m\u001b[1;33m\u001b[0m\u001b[0m\n",
      "\u001b[1;32mC:\\Users\\leope\\Anaconda3\\lib\\site-packages\\numpy\\linalg\\linalg.py\u001b[0m in \u001b[0;36msolve\u001b[1;34m(a, b)\u001b[0m\n\u001b[0;32m    382\u001b[0m     \u001b[0msignature\u001b[0m \u001b[1;33m=\u001b[0m \u001b[1;34m'DD->D'\u001b[0m \u001b[1;32mif\u001b[0m \u001b[0misComplexType\u001b[0m\u001b[1;33m(\u001b[0m\u001b[0mt\u001b[0m\u001b[1;33m)\u001b[0m \u001b[1;32melse\u001b[0m \u001b[1;34m'dd->d'\u001b[0m\u001b[1;33m\u001b[0m\u001b[0m\n\u001b[0;32m    383\u001b[0m     \u001b[0mextobj\u001b[0m \u001b[1;33m=\u001b[0m \u001b[0mget_linalg_error_extobj\u001b[0m\u001b[1;33m(\u001b[0m\u001b[0m_raise_linalgerror_singular\u001b[0m\u001b[1;33m)\u001b[0m\u001b[1;33m\u001b[0m\u001b[0m\n\u001b[1;32m--> 384\u001b[1;33m     \u001b[0mr\u001b[0m \u001b[1;33m=\u001b[0m \u001b[0mgufunc\u001b[0m\u001b[1;33m(\u001b[0m\u001b[0ma\u001b[0m\u001b[1;33m,\u001b[0m \u001b[0mb\u001b[0m\u001b[1;33m,\u001b[0m \u001b[0msignature\u001b[0m\u001b[1;33m=\u001b[0m\u001b[0msignature\u001b[0m\u001b[1;33m,\u001b[0m \u001b[0mextobj\u001b[0m\u001b[1;33m=\u001b[0m\u001b[0mextobj\u001b[0m\u001b[1;33m)\u001b[0m\u001b[1;33m\u001b[0m\u001b[0m\n\u001b[0m\u001b[0;32m    385\u001b[0m \u001b[1;33m\u001b[0m\u001b[0m\n\u001b[0;32m    386\u001b[0m     \u001b[1;32mreturn\u001b[0m \u001b[0mwrap\u001b[0m\u001b[1;33m(\u001b[0m\u001b[0mr\u001b[0m\u001b[1;33m.\u001b[0m\u001b[0mastype\u001b[0m\u001b[1;33m(\u001b[0m\u001b[0mresult_t\u001b[0m\u001b[1;33m,\u001b[0m \u001b[0mcopy\u001b[0m\u001b[1;33m=\u001b[0m\u001b[1;32mFalse\u001b[0m\u001b[1;33m)\u001b[0m\u001b[1;33m)\u001b[0m\u001b[1;33m\u001b[0m\u001b[0m\n",
      "\u001b[1;32mC:\\Users\\leope\\Anaconda3\\lib\\site-packages\\numpy\\linalg\\linalg.py\u001b[0m in \u001b[0;36m_raise_linalgerror_singular\u001b[1;34m(err, flag)\u001b[0m\n\u001b[0;32m     88\u001b[0m \u001b[1;33m\u001b[0m\u001b[0m\n\u001b[0;32m     89\u001b[0m \u001b[1;32mdef\u001b[0m \u001b[0m_raise_linalgerror_singular\u001b[0m\u001b[1;33m(\u001b[0m\u001b[0merr\u001b[0m\u001b[1;33m,\u001b[0m \u001b[0mflag\u001b[0m\u001b[1;33m)\u001b[0m\u001b[1;33m:\u001b[0m\u001b[1;33m\u001b[0m\u001b[0m\n\u001b[1;32m---> 90\u001b[1;33m     \u001b[1;32mraise\u001b[0m \u001b[0mLinAlgError\u001b[0m\u001b[1;33m(\u001b[0m\u001b[1;34m\"Singular matrix\"\u001b[0m\u001b[1;33m)\u001b[0m\u001b[1;33m\u001b[0m\u001b[0m\n\u001b[0m\u001b[0;32m     91\u001b[0m \u001b[1;33m\u001b[0m\u001b[0m\n\u001b[0;32m     92\u001b[0m \u001b[1;32mdef\u001b[0m \u001b[0m_raise_linalgerror_nonposdef\u001b[0m\u001b[1;33m(\u001b[0m\u001b[0merr\u001b[0m\u001b[1;33m,\u001b[0m \u001b[0mflag\u001b[0m\u001b[1;33m)\u001b[0m\u001b[1;33m:\u001b[0m\u001b[1;33m\u001b[0m\u001b[0m\n",
      "\u001b[1;31mLinAlgError\u001b[0m: Singular matrix"
     ]
    }
   ],
   "source": [
    "ratio = .65\n",
    "seed = 4\n",
    "N = 10\n",
    "loss = []\n",
    "lambdas = np.logspace(0.7,1.2,5)\n",
    "degree = 11\n",
    "\n",
    "\n",
    "y_train, x_train, y_test, x_test = split_data(y, x, ratio, seed)\n",
    "phi_test = build_poly(x_test, degree, False)\n",
    "phi_train = build_poly(x_train, degree, False)\n",
    "\n",
    "for l in lambdas:\n",
    "    \n",
    "    w = ridge_regression(y_train, phi_train, l)\n",
    "    rmse_test = cost_function(y_test, phi_test, w)\n",
    "\n",
    "    loss.append(rmse_test)\n",
    "\n",
    "    print(\"Correct answers: \",predict(y_test,phi_test,w), '%')\n",
    "plt.semilogx(lambdas, loss)"
   ]
  },
  {
   "cell_type": "code",
   "execution_count": 8,
   "metadata": {},
   "outputs": [
    {
     "name": "stdout",
     "output_type": "stream",
     "text": [
      "Correct answers:  78.104 %\n",
      "Correct answers:  80.2736 %\n",
      "Correct answers:  81.2304 %\n",
      "Correct answers:  81.5296 %\n",
      "Correct answers:  81.7152 %\n",
      "Correct answers:  81.768 %\n",
      "Correct answers:  81.784 %\n",
      "Correct answers:  81.8016 %\n",
      "Correct answers:  81.7968 %\n",
      "Correct answers:  81.7424 %\n",
      "Correct answers:  79.104 %\n",
      "Correct answers:  69.0352 %\n",
      "Correct answers:  71.9376 %\n",
      "Correct answers:  81.2864 %\n",
      "Correct answers:  82.0784 %\n",
      "Correct answers:  82.1152 %\n",
      "Correct answers:  82.16 %\n",
      "Correct answers:  82.1344 %\n",
      "Correct answers:  82.0896 %\n",
      "Correct answers:  82.048 %\n",
      "Correct answers:  79.336 %\n",
      "Correct answers:  78.2384 %\n",
      "Correct answers:  77.2672 %\n",
      "Correct answers:  77.9616 %\n",
      "Correct answers:  64.2352 %\n",
      "Correct answers:  74.8944 %\n",
      "Correct answers:  80.688 %\n",
      "Correct answers:  81.776 %\n",
      "Correct answers:  81.8032 %\n",
      "Correct answers:  81.7312 %\n",
      "Correct answers:  69.2304 %\n",
      "Correct answers:  80.2352 %\n",
      "Correct answers:  82.0192 %\n",
      "Correct answers:  65.7552 %\n",
      "Correct answers:  80.808 %\n",
      "Correct answers:  82.104 %\n",
      "Correct answers:  82.208 %\n",
      "Correct answers:  82.1616 %\n",
      "Correct answers:  82.0816 %\n",
      "Correct answers:  77.6912 %\n"
     ]
    },
    {
     "data": {
      "text/plain": [
       "[<matplotlib.lines.Line2D at 0x2bfc0393ef0>]"
      ]
     },
     "execution_count": 8,
     "metadata": {},
     "output_type": "execute_result"
    },
    {
     "data": {
      "image/png": "[encoded data removed]",
      "text/plain": [
       "<matplotlib.figure.Figure at 0x2bfcf2109e8>"
      ]
     },
     "metadata": {},
     "output_type": "display_data"
    }
   ],
   "source": [
    "def cross_validation_demo(y, x, k_fold, degree, lambdas, seed = 1)\n",
    "\n",
    "N = 10\n",
    "seed = 2\n",
    "loss = np.zeros((N))\n",
    "lambdas = np.logspace(-7,-2,N)\n",
    "#lambdas = [6.5e-2]\n",
    "degree = 12\n",
    "k_fold = 4\n",
    "phi = build_poly(x, degree, False)\n",
    "k_indices = build_k_indices(y, k_fold, seed+8)\n",
    "\n",
    "for k in range(4):\n",
    "    \n",
    "    y_train, phi_train, y_test, phi_test = split_data_cross(y, phi, k, k_indices, degree)\n",
    "\n",
    "    loss_temp = []\n",
    "    for l in lambdas:\n",
    "        w = ridge_regression(y_train, phi_train, l)\n",
    "        rmse_test = cost_function(y_test, phi_test, w)\n",
    "\n",
    "        loss_temp.append(rmse_test)\n",
    "\n",
    "        print(\"Correct answers: \",predict(y_test,phi_test,w), '%')\n",
    "    loss += loss_temp\n",
    "plt.semilogx(lambdas, loss)"
   ]
  },
  {
   "cell_type": "code",
   "execution_count": null,
   "metadata": {
    "collapsed": true
   },
   "outputs": [],
   "source": [
    "ratio = .65\n",
    "seed = 22\n",
    "degree = 11\n",
    "#y_train, x_train, y_test, x_test = split_data(y, x, ratio, seed)\n",
    "k_fold = 4\n",
    "k_indices = build_k_indices(y, k_fold, seed)\n",
    "\n",
    "\n",
    "#phi_train = build_poly(x_train, degree)\n",
    "#phi_test = build_poly(x_test, degree)\n",
    "\n",
    "lambdas = np.linspace(2.1,3.9,N)\n",
    "#loss = []\n",
    "rmse_tr = []\n",
    "rmse_te = []\n",
    "\n",
    "for i, l in enumerate(lambdas):\n",
    "    print(\"lambda = \", l)\n",
    "    loss_tr = 0\n",
    "    loss_te = 0\n",
    "    for k in range(k_fold):\n",
    "        print(\"k = \", k)\n",
    "        a,b =cross_validation(y, x, k_indices, k, l, degree)\n",
    "        loss_tr += a\n",
    "        loss_te += b\n",
    "\n",
    "    rmse_tr.append(loss_tr/k_fold)\n",
    "    rmse_te.append(loss_te/k_fold)\n",
    "    \n",
    "    #w = ridge_regression(y_train, phi_train, l)\n",
    "    \n",
    "    #rmse_train = cost_function(y_train, phi_train, w)\n",
    "    #rmse_test = cost_function(y_test, phi_test, w)\n",
    "    \n",
    "    #loss.append(rmse_test)\n",
    "    \n",
    "    #print(\"Correct answers: \",predict(y_test,phi_test,w), '%')\n",
    "    \n",
    "cross_validation_visualization(lambdas, rmse_tr, rmse_te)\n",
    "    \n",
    "#plt.plot(lambdas, loss)"
   ]
  },
  {
   "cell_type": "code",
   "execution_count": 16,
   "metadata": {
    "collapsed": true
   },
   "outputs": [],
   "source": [
    "phi_submission = build_poly(x_submission, degree, False) \n",
    "\n",
    "y_predicted = np.sign(phi_submission.dot(w))\n",
    "create_csv_submission(ids_submission, y_predicted, \"predictions_6.csv\")"
   ]
  }
 ],
 "metadata": {
  "kernelspec": {
   "display_name": "Python 3",
   "language": "python",
   "name": "python3"
  },
  "language_info": {
   "codemirror_mode": {
    "name": "ipython",
    "version": 3
   },
   "file_extension": ".py",
   "mimetype": "text/x-python",
   "name": "python",
   "nbconvert_exporter": "python",
   "pygments_lexer": "ipython3",
   "version": "3.6.1"
  }
 },
 "nbformat": 4,
 "nbformat_minor": 2
}
