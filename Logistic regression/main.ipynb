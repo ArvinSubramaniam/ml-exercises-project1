{
 "cells": [
  {
   "cell_type": "code",
   "execution_count": 1,
   "metadata": {
    "collapsed": true
   },
   "outputs": [],
   "source": [
    "import numpy as np\n",
    "from implementations_leo import *\n",
    "#from Package import *\n",
    "from proj1_helpers import *\n",
    "import matplotlib.pyplot as plt\n",
    "%matplotlib inline\n",
    "%reload_ext autoreload\n",
    "%autoreload 2"
   ]
  },
  {
   "cell_type": "code",
   "execution_count": 2,
   "metadata": {
    "collapsed": true
   },
   "outputs": [],
   "source": [
    "y, x, ids = load_csv_data(\"train.csv\", sub_sample=True)\n",
    "\n",
    "#_, x_submission, ids_submission = load_csv_data(\"test.csv\", sub_sample=False)\n",
    "\n",
    "x[x == -999] = 0\n",
    "#x_submission[x_submission == -999] = 0"
   ]
  },
  {
   "cell_type": "code",
   "execution_count": 29,
   "metadata": {},
   "outputs": [
    {
     "data": {
      "text/plain": [
       "0"
      ]
     },
     "execution_count": 29,
     "metadata": {},
     "output_type": "execute_result"
    }
   ],
   "source": [
    "sum(phi_test.dot(w) > 0.5)"
   ]
  },
  {
   "cell_type": "code",
   "execution_count": 25,
   "metadata": {},
   "outputs": [
    {
     "name": "stdout",
     "output_type": "stream",
     "text": [
      "0.657333333333\n"
     ]
    },
    {
     "data": {
      "text/plain": [
       "[<matplotlib.lines.Line2D at 0x1e7352d3630>]"
      ]
     },
     "execution_count": 25,
     "metadata": {},
     "output_type": "execute_result"
    },
    {
     "data": {
      "image/png": "[encoded data removed]",
      "text/plain": [
       "<matplotlib.figure.Figure at 0x1e73705d7b8>"
      ]
     },
     "metadata": {},
     "output_type": "display_data"
    }
   ],
   "source": [
    "degree = 11\n",
    "batch_size = 20\n",
    "\n",
    "gamma = 0.001\n",
    "w_initial = np.ones((x.shape[1]*degree +1,))*1e-3\n",
    "max_iter = 100\n",
    "ratio = 0.7\n",
    "seed = 45\n",
    "\n",
    "y_train, x_train, y_test, x_test = batch_data(y, x, int(ratio*len(y)), seed)\n",
    "y_train = [0 if t == -1 else t for t in y_train]\n",
    "\n",
    "phi_train = build_poly(x_train, degree)\n",
    "phi_test = build_poly(x_test, degree)\n",
    "loss = []\n",
    "w = w_initial\n",
    "\n",
    "for i in range(max_iter):\n",
    "    \n",
    "    w= GD_step(y_train, phi_train, w, gamma)\n",
    "    loss.append(cost_function(y_train,phi_train,w))\n",
    "    \n",
    "print(sum(predict_y(phi_test, w) == y_test)/len(y_test))\n",
    "plt.plot(range(max_iter), loss)"
   ]
  },
  {
   "cell_type": "code",
   "execution_count": null,
   "metadata": {
    "collapsed": true
   },
   "outputs": [],
   "source": [
    "phi_submission = build_poly(x_submission, degree) \n",
    "\n",
    "y_predicted = np.sign(phi_submission.dot(w))\n",
    "create_csv_submission(ids_submission, y_predicted, \"predictions1.csv\")"
   ]
  },
  {
   "cell_type": "code",
   "execution_count": null,
   "metadata": {
    "collapsed": true
   },
   "outputs": [],
   "source": [
    "phi_submission.dot(w)"
   ]
  },
  {
   "cell_type": "code",
   "execution_count": null,
   "metadata": {
    "collapsed": true
   },
   "outputs": [],
   "source": [
    "np.mean(np.sign(np.dot(phi_test,w)))"
   ]
  },
  {
   "cell_type": "code",
   "execution_count": null,
   "metadata": {
    "collapsed": true
   },
   "outputs": [],
   "source": [
    "gammas"
   ]
  },
  {
   "cell_type": "code",
   "execution_count": null,
   "metadata": {
    "collapsed": true
   },
   "outputs": [],
   "source": []
  }
 ],
 "metadata": {
  "kernelspec": {
   "display_name": "Python 3",
   "language": "python",
   "name": "python3"
  },
  "language_info": {
   "codemirror_mode": {
    "name": "ipython",
    "version": 3
   },
   "file_extension": ".py",
   "mimetype": "text/x-python",
   "name": "python",
   "nbconvert_exporter": "python",
   "pygments_lexer": "ipython3",
   "version": "3.6.1"
  }
 },
 "nbformat": 4,
 "nbformat_minor": 2
}
